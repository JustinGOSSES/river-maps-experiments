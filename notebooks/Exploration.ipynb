{
 "cells": [
  {
   "cell_type": "code",
   "execution_count": 1,
   "id": "86581369",
   "metadata": {},
   "outputs": [],
   "source": [
    "# import sys\n",
    "# !conda install --yes --prefix {sys.prefix}  ipyleaflet"
   ]
  },
  {
   "cell_type": "code",
   "execution_count": 2,
   "id": "ac64b8d9",
   "metadata": {},
   "outputs": [],
   "source": [
    "# import sys\n",
    "# !conda install --yes --prefix {sys.prefix} rasterio"
   ]
  },
  {
   "cell_type": "markdown",
   "id": "135a9a44",
   "metadata": {},
   "source": [
    "The data"
   ]
  },
  {
   "cell_type": "code",
   "execution_count": 3,
   "id": "9cc6aa22",
   "metadata": {},
   "outputs": [
    {
     "name": "stdout",
     "output_type": "stream",
     "text": [
      "Exploration.ipynb\r\n"
     ]
    }
   ],
   "source": [
    "ls"
   ]
  },
  {
   "cell_type": "code",
   "execution_count": 4,
   "id": "fa3cf0d4",
   "metadata": {},
   "outputs": [
    {
     "name": "stdout",
     "output_type": "stream",
     "text": [
      "/Users/justingosses/Code/river-maps-experiments\n"
     ]
    }
   ],
   "source": [
    "cd .."
   ]
  },
  {
   "cell_type": "code",
   "execution_count": 5,
   "id": "dab7a390",
   "metadata": {},
   "outputs": [
    {
     "name": "stdout",
     "output_type": "stream",
     "text": [
      "README.md  \u001b[34mdata\u001b[m\u001b[m/      \u001b[34mnotebooks\u001b[m\u001b[m/\r\n"
     ]
    }
   ],
   "source": [
    "ls"
   ]
  },
  {
   "cell_type": "code",
   "execution_count": 6,
   "id": "8704e736",
   "metadata": {},
   "outputs": [
    {
     "name": "stdout",
     "output_type": "stream",
     "text": [
      "/Users/justingosses/Code/river-maps-experiments/data\n"
     ]
    }
   ],
   "source": [
    "cd data"
   ]
  },
  {
   "cell_type": "code",
   "execution_count": 7,
   "id": "8eb07189",
   "metadata": {},
   "outputs": [
    {
     "name": "stdout",
     "output_type": "stream",
     "text": [
      "HGAC_Major_Rivers.geojson              USCB_Urban_Areas_2010.geojson\r\n",
      "\u001b[34mLand_Cover_2015_10_Class_HGAC.gdb\u001b[m\u001b[m/     USGS_HUC_10_Watersheds.geojson\r\n",
      "Land_Cover_2015_10_Class_HGAC.gdb.zip  USGS_HUC_12_Subwatersheds.geojson\r\n",
      "\u001b[34mNHD_H_12040104_HU8_Shape\u001b[m\u001b[m/              \u001b[34mgaplf2011lc_v30_TX\u001b[m\u001b[m/\r\n",
      "NHD_H_12040104_HU8_Shape.zip           gaplf2011lc_v30_TX.zip\r\n"
     ]
    }
   ],
   "source": [
    "ls"
   ]
  },
  {
   "cell_type": "code",
   "execution_count": 8,
   "id": "f19d6384",
   "metadata": {},
   "outputs": [
    {
     "name": "stdout",
     "output_type": "stream",
     "text": [
      "/Users/justingosses/Code/river-maps-experiments/data/NHD_H_12040104_HU8_Shape/Shape\n"
     ]
    }
   ],
   "source": [
    "cd NHD_H_12040104_HU8_Shape/Shape/"
   ]
  },
  {
   "cell_type": "code",
   "execution_count": 9,
   "id": "8a287b11",
   "metadata": {},
   "outputs": [
    {
     "name": "stdout",
     "output_type": "stream",
     "text": [
      "ExternalCrosswalk.dbf        NHDWaterbody.dbf\r\n",
      "NHDArea.dbf                  NHDWaterbody.prj\r\n",
      "NHDArea.prj                  NHDWaterbody.shp\r\n",
      "NHDArea.shp                  NHDWaterbody.shx\r\n",
      "NHDArea.shx                  WBDHU10.dbf\r\n",
      "NHDAreaEventFC.dbf           WBDHU10.prj\r\n",
      "NHDAreaEventFC.prj           WBDHU10.shp\r\n",
      "NHDAreaEventFC.shp           WBDHU10.shx\r\n",
      "NHDAreaEventFC.shx           WBDHU12.dbf\r\n",
      "NHDFCode.dbf                 WBDHU12.prj\r\n",
      "NHDFeatureToMetadata.dbf     WBDHU12.shp\r\n",
      "NHDFlow.dbf                  WBDHU12.shx\r\n",
      "NHDFlowline.dbf              WBDHU14.dbf\r\n",
      "NHDFlowline.prj              WBDHU14.prj\r\n",
      "NHDFlowline.shp              WBDHU14.shp\r\n",
      "NHDFlowline.shx              WBDHU14.shx\r\n",
      "NHDFlowlineVAA.dbf           WBDHU16.dbf\r\n",
      "NHDLine.dbf                  WBDHU16.prj\r\n",
      "NHDLine.prj                  WBDHU16.shp\r\n",
      "NHDLine.shp                  WBDHU16.shx\r\n",
      "NHDLine.shx                  WBDHU2.dbf\r\n",
      "NHDLineEventFC.dbf           WBDHU2.prj\r\n",
      "NHDLineEventFC.prj           WBDHU2.shp\r\n",
      "NHDLineEventFC.shp           WBDHU2.shx\r\n",
      "NHDLineEventFC.shx           WBDHU4.dbf\r\n",
      "NHDMetadata.dbf              WBDHU4.prj\r\n",
      "NHDPoint.dbf                 WBDHU4.shp\r\n",
      "NHDPoint.prj                 WBDHU4.shx\r\n",
      "NHDPoint.shp                 WBDHU6.dbf\r\n",
      "NHDPoint.shx                 WBDHU6.prj\r\n",
      "NHDPointEventFC.dbf          WBDHU6.shp\r\n",
      "NHDPointEventFC.prj          WBDHU6.shx\r\n",
      "NHDPointEventFC.shp          WBDHU8.dbf\r\n",
      "NHDPointEventFC.shx          WBDHU8.prj\r\n",
      "NHDProcessingParameters.dbf  WBDHU8.shp\r\n",
      "NHDReachCodeMaintenance.dbf  WBDHU8.shx\r\n",
      "NHDReachCrossReference.dbf   WBDLine.dbf\r\n",
      "NHDSourceCitation.dbf        WBDLine.prj\r\n",
      "NHDStatus.dbf                WBDLine.shp\r\n",
      "NHDVerticalRelationship.dbf  WBDLine.shx\r\n"
     ]
    }
   ],
   "source": [
    "ls"
   ]
  },
  {
   "cell_type": "code",
   "execution_count": 10,
   "id": "af6583ba",
   "metadata": {},
   "outputs": [
    {
     "name": "stdout",
     "output_type": "stream",
     "text": [
      "/Users/justingosses/Code/river-maps-experiments/data/NHD_H_12040104_HU8_Shape\n"
     ]
    }
   ],
   "source": [
    "cd .."
   ]
  },
  {
   "cell_type": "code",
   "execution_count": 11,
   "id": "c5fb6fbe",
   "metadata": {},
   "outputs": [
    {
     "name": "stdout",
     "output_type": "stream",
     "text": [
      "/Users/justingosses/Code/river-maps-experiments/data\n"
     ]
    }
   ],
   "source": [
    "cd .."
   ]
  },
  {
   "cell_type": "code",
   "execution_count": 12,
   "id": "835aeab8",
   "metadata": {},
   "outputs": [
    {
     "name": "stdout",
     "output_type": "stream",
     "text": [
      "/Users/justingosses/Code/river-maps-experiments\n"
     ]
    }
   ],
   "source": [
    "cd .."
   ]
  },
  {
   "cell_type": "code",
   "execution_count": 13,
   "id": "8c61811a",
   "metadata": {},
   "outputs": [
    {
     "name": "stdout",
     "output_type": "stream",
     "text": [
      "/Users/justingosses/Code/river-maps-experiments/notebooks\n"
     ]
    }
   ],
   "source": [
    "cd notebooks"
   ]
  },
  {
   "cell_type": "code",
   "execution_count": 14,
   "id": "d6be2ad0",
   "metadata": {},
   "outputs": [
    {
     "name": "stdout",
     "output_type": "stream",
     "text": [
      "Exploration.ipynb\r\n"
     ]
    }
   ],
   "source": [
    "ls"
   ]
  },
  {
   "cell_type": "code",
   "execution_count": 15,
   "id": "1827af55",
   "metadata": {},
   "outputs": [],
   "source": [
    "path_to_data = \"../data/HGAC_Major_Rivers.geojson\""
   ]
  },
  {
   "cell_type": "code",
   "execution_count": 16,
   "id": "63e3e982",
   "metadata": {},
   "outputs": [],
   "source": [
    "import geopandas as gpd"
   ]
  },
  {
   "cell_type": "code",
   "execution_count": 17,
   "id": "2cede933",
   "metadata": {},
   "outputs": [],
   "source": [
    "data = gpd.read_file(path_to_data)"
   ]
  },
  {
   "cell_type": "code",
   "execution_count": 18,
   "id": "f20ef05f",
   "metadata": {},
   "outputs": [
    {
     "data": {
      "text/plain": [
       "<Geographic 2D CRS: EPSG:4326>\n",
       "Name: WGS 84\n",
       "Axis Info [ellipsoidal]:\n",
       "- Lat[north]: Geodetic latitude (degree)\n",
       "- Lon[east]: Geodetic longitude (degree)\n",
       "Area of Use:\n",
       "- name: World.\n",
       "- bounds: (-180.0, -90.0, 180.0, 90.0)\n",
       "Datum: World Geodetic System 1984 ensemble\n",
       "- Ellipsoid: WGS 84\n",
       "- Prime Meridian: Greenwich"
      ]
     },
     "execution_count": 18,
     "metadata": {},
     "output_type": "execute_result"
    }
   ],
   "source": [
    "data.crs"
   ]
  },
  {
   "cell_type": "code",
   "execution_count": 19,
   "id": "e0dfe0df",
   "metadata": {},
   "outputs": [
    {
     "name": "stdout",
     "output_type": "stream",
     "text": [
      "<class 'geopandas.geodataframe.GeoDataFrame'>\n"
     ]
    }
   ],
   "source": [
    "print(type(data))"
   ]
  },
  {
   "cell_type": "code",
   "execution_count": 20,
   "id": "d3f380d3",
   "metadata": {},
   "outputs": [],
   "source": [
    "import geoplot\n",
    "import geoplot.crs as gcrs"
   ]
  },
  {
   "cell_type": "code",
   "execution_count": 21,
   "id": "c81a7fc7",
   "metadata": {},
   "outputs": [
    {
     "data": {
      "text/plain": [
       "<GeoAxesSubplot:>"
      ]
     },
     "execution_count": 21,
     "metadata": {},
     "output_type": "execute_result"
    },
    {
     "data": {
      "image/png": "[encoded data removed]",
      "text/plain": [
       "<Figure size 864x576 with 1 Axes>"
      ]
     },
     "metadata": {
      "needs_background": "light"
     },
     "output_type": "display_data"
    }
   ],
   "source": [
    "geoplot.polyplot(data, projection=gcrs.AlbersEqualArea(), edgecolor='darkgrey', facecolor='lightgrey', linewidth=.3,\n",
    "    figsize=(12, 8))"
   ]
  },
  {
   "cell_type": "code",
   "execution_count": 22,
   "id": "17edfb93",
   "metadata": {},
   "outputs": [
    {
     "data": {
      "text/html": [
       "<div>\n",
       "<style scoped>\n",
       "    .dataframe tbody tr th:only-of-type {\n",
       "        vertical-align: middle;\n",
       "    }\n",
       "\n",
       "    .dataframe tbody tr th {\n",
       "        vertical-align: top;\n",
       "    }\n",
       "\n",
       "    .dataframe thead th {\n",
       "        text-align: right;\n",
       "    }\n",
       "</style>\n",
       "<table border=\"1\" class=\"dataframe\">\n",
       "  <thead>\n",
       "    <tr style=\"text-align: right;\">\n",
       "      <th></th>\n",
       "      <th>OBJECTID</th>\n",
       "      <th>Name</th>\n",
       "      <th>Length_Mi</th>\n",
       "      <th>Shapelen</th>\n",
       "      <th>geometry</th>\n",
       "    </tr>\n",
       "  </thead>\n",
       "  <tbody>\n",
       "    <tr>\n",
       "      <th>0</th>\n",
       "      <td>1</td>\n",
       "      <td>Addicks Reservoir</td>\n",
       "      <td>26.678537</td>\n",
       "      <td>1.408627e+05</td>\n",
       "      <td>LINESTRING (-95.64818 29.79127, -95.65343 29.7...</td>\n",
       "    </tr>\n",
       "    <tr>\n",
       "      <th>1</th>\n",
       "      <td>2</td>\n",
       "      <td>Armand Bayou</td>\n",
       "      <td>10.915853</td>\n",
       "      <td>5.763570e+04</td>\n",
       "      <td>MULTILINESTRING ((-95.07193 29.58354, -95.0721...</td>\n",
       "    </tr>\n",
       "    <tr>\n",
       "      <th>2</th>\n",
       "      <td>3</td>\n",
       "      <td>Ash Lake</td>\n",
       "      <td>1.924371</td>\n",
       "      <td>1.016068e+04</td>\n",
       "      <td>LINESTRING (-94.93343 29.67862, -94.93299 29.6...</td>\n",
       "    </tr>\n",
       "    <tr>\n",
       "      <th>3</th>\n",
       "      <td>4</td>\n",
       "      <td>Barker Reservoir</td>\n",
       "      <td>19.647284</td>\n",
       "      <td>1.037377e+05</td>\n",
       "      <td>LINESTRING (-95.75022 29.70561, -95.74837 29.7...</td>\n",
       "    </tr>\n",
       "    <tr>\n",
       "      <th>4</th>\n",
       "      <td>5</td>\n",
       "      <td>Bastrop Bayou</td>\n",
       "      <td>54.157393</td>\n",
       "      <td>2.859510e+05</td>\n",
       "      <td>MULTILINESTRING ((-95.29925 29.09859, -95.2994...</td>\n",
       "    </tr>\n",
       "    <tr>\n",
       "      <th>5</th>\n",
       "      <td>6</td>\n",
       "      <td>Big Island Slough</td>\n",
       "      <td>8.248943</td>\n",
       "      <td>4.355442e+04</td>\n",
       "      <td>LINESTRING (-95.04354 29.59240, -95.04378 29.5...</td>\n",
       "    </tr>\n",
       "    <tr>\n",
       "      <th>6</th>\n",
       "      <td>7</td>\n",
       "      <td>Brays Bayou</td>\n",
       "      <td>29.138200</td>\n",
       "      <td>1.538497e+05</td>\n",
       "      <td>MULTILINESTRING ((-95.27844 29.72754, -95.2784...</td>\n",
       "    </tr>\n",
       "    <tr>\n",
       "      <th>7</th>\n",
       "      <td>8</td>\n",
       "      <td>Brazos River</td>\n",
       "      <td>383.929075</td>\n",
       "      <td>2.027146e+06</td>\n",
       "      <td>MULTILINESTRING ((-96.14127 30.21328, -96.1408...</td>\n",
       "    </tr>\n",
       "    <tr>\n",
       "      <th>8</th>\n",
       "      <td>9</td>\n",
       "      <td>Brooke Lake</td>\n",
       "      <td>1.061548</td>\n",
       "      <td>5.604972e+03</td>\n",
       "      <td>LINESTRING (-95.62494 29.60157, -95.62437 29.6...</td>\n",
       "    </tr>\n",
       "    <tr>\n",
       "      <th>9</th>\n",
       "      <td>10</td>\n",
       "      <td>Buffalo Bayou</td>\n",
       "      <td>53.026858</td>\n",
       "      <td>2.799818e+05</td>\n",
       "      <td>MULTILINESTRING ((-95.35822 29.76523, -95.3579...</td>\n",
       "    </tr>\n",
       "    <tr>\n",
       "      <th>10</th>\n",
       "      <td>11</td>\n",
       "      <td>Burnett Bay</td>\n",
       "      <td>14.676190</td>\n",
       "      <td>7.749028e+04</td>\n",
       "      <td>MULTILINESTRING ((-95.04331 29.77320, -95.0434...</td>\n",
       "    </tr>\n",
       "    <tr>\n",
       "      <th>11</th>\n",
       "      <td>12</td>\n",
       "      <td>Caney Creek</td>\n",
       "      <td>187.387803</td>\n",
       "      <td>9.894076e+05</td>\n",
       "      <td>MULTILINESTRING ((-95.18627 30.12807, -95.1861...</td>\n",
       "    </tr>\n",
       "    <tr>\n",
       "      <th>12</th>\n",
       "      <td>13</td>\n",
       "      <td>Cedar Bayou</td>\n",
       "      <td>65.549973</td>\n",
       "      <td>3.461039e+05</td>\n",
       "      <td>MULTILINESTRING ((-95.04972 30.04177, -95.0495...</td>\n",
       "    </tr>\n",
       "    <tr>\n",
       "      <th>13</th>\n",
       "      <td>14</td>\n",
       "      <td>Chocolate Bayou</td>\n",
       "      <td>37.817069</td>\n",
       "      <td>1.996741e+05</td>\n",
       "      <td>MULTILINESTRING ((-95.26260 29.28918, -95.2632...</td>\n",
       "    </tr>\n",
       "    <tr>\n",
       "      <th>14</th>\n",
       "      <td>15</td>\n",
       "      <td>Clear Creek</td>\n",
       "      <td>45.831091</td>\n",
       "      <td>2.419882e+05</td>\n",
       "      <td>MULTILINESTRING ((-95.42693 29.58154, -95.4253...</td>\n",
       "    </tr>\n",
       "    <tr>\n",
       "      <th>15</th>\n",
       "      <td>16</td>\n",
       "      <td>Clear Lake</td>\n",
       "      <td>19.333112</td>\n",
       "      <td>1.020788e+05</td>\n",
       "      <td>MULTILINESTRING ((-95.07972 29.52598, -95.0797...</td>\n",
       "    </tr>\n",
       "    <tr>\n",
       "      <th>16</th>\n",
       "      <td>17</td>\n",
       "      <td>Cleveland Lake</td>\n",
       "      <td>2.001532</td>\n",
       "      <td>1.056809e+04</td>\n",
       "      <td>LINESTRING (-95.62489 29.62472, -95.62589 29.6...</td>\n",
       "    </tr>\n",
       "    <tr>\n",
       "      <th>17</th>\n",
       "      <td>18</td>\n",
       "      <td>Colorado River</td>\n",
       "      <td>305.318183</td>\n",
       "      <td>1.612080e+06</td>\n",
       "      <td>MULTILINESTRING ((-96.40004 29.56104, -96.3990...</td>\n",
       "    </tr>\n",
       "    <tr>\n",
       "      <th>18</th>\n",
       "      <td>19</td>\n",
       "      <td>Cypress Creek</td>\n",
       "      <td>64.291675</td>\n",
       "      <td>3.394600e+05</td>\n",
       "      <td>MULTILINESTRING ((-95.80824 29.95001, -95.8080...</td>\n",
       "    </tr>\n",
       "    <tr>\n",
       "      <th>19</th>\n",
       "      <td>20</td>\n",
       "      <td>Dickinson Bayou</td>\n",
       "      <td>30.535174</td>\n",
       "      <td>1.612257e+05</td>\n",
       "      <td>MULTILINESTRING ((-94.95171 29.46784, -94.9530...</td>\n",
       "    </tr>\n",
       "    <tr>\n",
       "      <th>20</th>\n",
       "      <td>21</td>\n",
       "      <td>East Fork San Jacinto River</td>\n",
       "      <td>30.370624</td>\n",
       "      <td>1.603569e+05</td>\n",
       "      <td>MULTILINESTRING ((-95.34138 30.70167, -95.3415...</td>\n",
       "    </tr>\n",
       "    <tr>\n",
       "      <th>21</th>\n",
       "      <td>22</td>\n",
       "      <td>Galveston Bay</td>\n",
       "      <td>10.455122</td>\n",
       "      <td>5.520305e+04</td>\n",
       "      <td>MULTILINESTRING ((-95.01834 29.54864, -95.0178...</td>\n",
       "    </tr>\n",
       "    <tr>\n",
       "      <th>22</th>\n",
       "      <td>23</td>\n",
       "      <td>Greens Bayou</td>\n",
       "      <td>32.581332</td>\n",
       "      <td>1.720294e+05</td>\n",
       "      <td>MULTILINESTRING ((-95.41983 29.95675, -95.4184...</td>\n",
       "    </tr>\n",
       "    <tr>\n",
       "      <th>23</th>\n",
       "      <td>24</td>\n",
       "      <td>Halls Bayou</td>\n",
       "      <td>17.278450</td>\n",
       "      <td>9.123021e+04</td>\n",
       "      <td>LINESTRING (-95.23405 29.83860, -95.23408 29.8...</td>\n",
       "    </tr>\n",
       "    <tr>\n",
       "      <th>24</th>\n",
       "      <td>25</td>\n",
       "      <td>Highlands Reservoir</td>\n",
       "      <td>5.627457</td>\n",
       "      <td>2.971297e+04</td>\n",
       "      <td>LINESTRING (-95.02970 29.82362, -95.02695 29.8...</td>\n",
       "    </tr>\n",
       "    <tr>\n",
       "      <th>25</th>\n",
       "      <td>26</td>\n",
       "      <td>Houston Ship Channel</td>\n",
       "      <td>74.889011</td>\n",
       "      <td>3.954140e+05</td>\n",
       "      <td>MULTILINESTRING ((-95.22982 29.82453, -95.2302...</td>\n",
       "    </tr>\n",
       "    <tr>\n",
       "      <th>26</th>\n",
       "      <td>27</td>\n",
       "      <td>Houston Ship Channel - Buffalo</td>\n",
       "      <td>34.151789</td>\n",
       "      <td>1.803214e+05</td>\n",
       "      <td>MULTILINESTRING ((-95.33382 29.76143, -95.3374...</td>\n",
       "    </tr>\n",
       "    <tr>\n",
       "      <th>27</th>\n",
       "      <td>28</td>\n",
       "      <td>Houston Ship Channel - San Jac</td>\n",
       "      <td>21.826929</td>\n",
       "      <td>1.152462e+05</td>\n",
       "      <td>MULTILINESTRING ((-95.08765 29.76477, -95.0877...</td>\n",
       "    </tr>\n",
       "    <tr>\n",
       "      <th>28</th>\n",
       "      <td>29</td>\n",
       "      <td>Ijams Lake</td>\n",
       "      <td>0.241805</td>\n",
       "      <td>1.276732e+03</td>\n",
       "      <td>LINESTRING (-94.91534 29.68772, -94.91541 29.6...</td>\n",
       "    </tr>\n",
       "    <tr>\n",
       "      <th>29</th>\n",
       "      <td>30</td>\n",
       "      <td>Intracoastal Waterway</td>\n",
       "      <td>65.631414</td>\n",
       "      <td>3.465339e+05</td>\n",
       "      <td>MULTILINESTRING ((-94.36557 29.60502, -94.3612...</td>\n",
       "    </tr>\n",
       "    <tr>\n",
       "      <th>30</th>\n",
       "      <td>31</td>\n",
       "      <td>Lake Creek</td>\n",
       "      <td>50.208839</td>\n",
       "      <td>2.651027e+05</td>\n",
       "      <td>MULTILINESTRING ((-95.81648 30.50258, -95.8160...</td>\n",
       "    </tr>\n",
       "    <tr>\n",
       "      <th>31</th>\n",
       "      <td>32</td>\n",
       "      <td>Lake Houston</td>\n",
       "      <td>87.652626</td>\n",
       "      <td>4.628059e+05</td>\n",
       "      <td>MULTILINESTRING ((-95.15582 30.08102, -95.1556...</td>\n",
       "    </tr>\n",
       "    <tr>\n",
       "      <th>32</th>\n",
       "      <td>33</td>\n",
       "      <td>Little Cypress Creek</td>\n",
       "      <td>20.714617</td>\n",
       "      <td>1.093732e+05</td>\n",
       "      <td>LINESTRING (-95.62084 29.96307, -95.62067 29.9...</td>\n",
       "    </tr>\n",
       "    <tr>\n",
       "      <th>33</th>\n",
       "      <td>34</td>\n",
       "      <td>Luce Bayou</td>\n",
       "      <td>9.396767</td>\n",
       "      <td>4.961493e+04</td>\n",
       "      <td>LINESTRING (-95.09213 30.07296, -95.09250 30.0...</td>\n",
       "    </tr>\n",
       "    <tr>\n",
       "      <th>34</th>\n",
       "      <td>35</td>\n",
       "      <td>Mustang Bayou</td>\n",
       "      <td>9.189645</td>\n",
       "      <td>4.852132e+04</td>\n",
       "      <td>LINESTRING (-95.43515 29.53507, -95.43671 29.5...</td>\n",
       "    </tr>\n",
       "    <tr>\n",
       "      <th>35</th>\n",
       "      <td>36</td>\n",
       "      <td>Old Brazos River Channel</td>\n",
       "      <td>13.115550</td>\n",
       "      <td>6.925010e+04</td>\n",
       "      <td>LINESTRING (-95.30798 28.94429, -95.30827 28.9...</td>\n",
       "    </tr>\n",
       "    <tr>\n",
       "      <th>36</th>\n",
       "      <td>37</td>\n",
       "      <td>Oyster Creek</td>\n",
       "      <td>198.564391</td>\n",
       "      <td>1.048420e+06</td>\n",
       "      <td>MULTILINESTRING ((-95.63422 29.62371, -95.6344...</td>\n",
       "    </tr>\n",
       "    <tr>\n",
       "      <th>37</th>\n",
       "      <td>38</td>\n",
       "      <td>Palacios Creek</td>\n",
       "      <td>63.384166</td>\n",
       "      <td>3.346684e+05</td>\n",
       "      <td>MULTILINESTRING ((-96.14408 29.05759, -96.1440...</td>\n",
       "    </tr>\n",
       "    <tr>\n",
       "      <th>38</th>\n",
       "      <td>39</td>\n",
       "      <td>Peach Creek</td>\n",
       "      <td>41.580667</td>\n",
       "      <td>2.195459e+05</td>\n",
       "      <td>MULTILINESTRING ((-95.35713 30.52330, -95.3571...</td>\n",
       "    </tr>\n",
       "    <tr>\n",
       "      <th>39</th>\n",
       "      <td>40</td>\n",
       "      <td>Peggy Lake</td>\n",
       "      <td>2.973776</td>\n",
       "      <td>1.570154e+04</td>\n",
       "      <td>LINESTRING (-95.05555 29.73053, -95.05553 29.7...</td>\n",
       "    </tr>\n",
       "    <tr>\n",
       "      <th>40</th>\n",
       "      <td>41</td>\n",
       "      <td>Pine Gully</td>\n",
       "      <td>5.055264</td>\n",
       "      <td>2.669180e+04</td>\n",
       "      <td>LINESTRING (-94.97963 29.75027, -94.97964 29.7...</td>\n",
       "    </tr>\n",
       "    <tr>\n",
       "      <th>41</th>\n",
       "      <td>42</td>\n",
       "      <td>San Bernard River</td>\n",
       "      <td>161.769879</td>\n",
       "      <td>8.541450e+05</td>\n",
       "      <td>MULTILINESTRING ((-96.12887 29.62289, -96.1313...</td>\n",
       "    </tr>\n",
       "    <tr>\n",
       "      <th>42</th>\n",
       "      <td>43</td>\n",
       "      <td>San Jacinto River</td>\n",
       "      <td>85.695643</td>\n",
       "      <td>4.524730e+05</td>\n",
       "      <td>MULTILINESTRING ((-95.60347 30.46229, -95.6003...</td>\n",
       "    </tr>\n",
       "    <tr>\n",
       "      <th>43</th>\n",
       "      <td>44</td>\n",
       "      <td>Sheldon Reservoir</td>\n",
       "      <td>10.566027</td>\n",
       "      <td>5.578862e+04</td>\n",
       "      <td>LINESTRING (-95.16213 29.87523, -95.16623 29.8...</td>\n",
       "    </tr>\n",
       "    <tr>\n",
       "      <th>44</th>\n",
       "      <td>45</td>\n",
       "      <td>Sims  Bayou</td>\n",
       "      <td>25.024769</td>\n",
       "      <td>1.321308e+05</td>\n",
       "      <td>MULTILINESTRING ((-95.26902 29.69022, -95.2684...</td>\n",
       "    </tr>\n",
       "    <tr>\n",
       "      <th>45</th>\n",
       "      <td>46</td>\n",
       "      <td>South Mayde Creek</td>\n",
       "      <td>1.310573</td>\n",
       "      <td>6.919824e+03</td>\n",
       "      <td>LINESTRING (-95.62359 29.79073, -95.62349 29.7...</td>\n",
       "    </tr>\n",
       "    <tr>\n",
       "      <th>46</th>\n",
       "      <td>47</td>\n",
       "      <td>Spring Creek</td>\n",
       "      <td>81.763532</td>\n",
       "      <td>4.317115e+05</td>\n",
       "      <td>MULTILINESTRING ((-95.47589 30.10356, -95.4759...</td>\n",
       "    </tr>\n",
       "    <tr>\n",
       "      <th>47</th>\n",
       "      <td>48</td>\n",
       "      <td>Taylor Lake</td>\n",
       "      <td>5.972941</td>\n",
       "      <td>3.153713e+04</td>\n",
       "      <td>MULTILINESTRING ((-95.05466 29.56493, -95.0544...</td>\n",
       "    </tr>\n",
       "    <tr>\n",
       "      <th>48</th>\n",
       "      <td>49</td>\n",
       "      <td>Trinity River</td>\n",
       "      <td>270.222172</td>\n",
       "      <td>1.426773e+06</td>\n",
       "      <td>MULTILINESTRING ((-95.61700 30.93105, -95.6149...</td>\n",
       "    </tr>\n",
       "    <tr>\n",
       "      <th>49</th>\n",
       "      <td>50</td>\n",
       "      <td>Unknown</td>\n",
       "      <td>8.314293</td>\n",
       "      <td>4.389947e+04</td>\n",
       "      <td>MULTILINESTRING ((-95.61222 29.61350, -95.6122...</td>\n",
       "    </tr>\n",
       "    <tr>\n",
       "      <th>50</th>\n",
       "      <td>51</td>\n",
       "      <td>Upper San Jacinto Bay</td>\n",
       "      <td>3.860361</td>\n",
       "      <td>2.038271e+04</td>\n",
       "      <td>LINESTRING (-95.05367 29.72926, -95.05388 29.7...</td>\n",
       "    </tr>\n",
       "    <tr>\n",
       "      <th>51</th>\n",
       "      <td>52</td>\n",
       "      <td>Water Oak Gully</td>\n",
       "      <td>0.406518</td>\n",
       "      <td>2.146415e+03</td>\n",
       "      <td>LINESTRING (-94.90891 29.68706, -94.90916 29.6...</td>\n",
       "    </tr>\n",
       "    <tr>\n",
       "      <th>52</th>\n",
       "      <td>53</td>\n",
       "      <td>West Fork Chocolate Bayou</td>\n",
       "      <td>22.224891</td>\n",
       "      <td>1.173474e+05</td>\n",
       "      <td>MULTILINESTRING ((-95.39117 29.47546, -95.3911...</td>\n",
       "    </tr>\n",
       "    <tr>\n",
       "      <th>53</th>\n",
       "      <td>54</td>\n",
       "      <td>West Fork San Jacinto River</td>\n",
       "      <td>56.725435</td>\n",
       "      <td>2.995103e+05</td>\n",
       "      <td>MULTILINESTRING ((-95.39192 30.19822, -95.3921...</td>\n",
       "    </tr>\n",
       "    <tr>\n",
       "      <th>54</th>\n",
       "      <td>55</td>\n",
       "      <td>White Oak Bayou</td>\n",
       "      <td>29.536861</td>\n",
       "      <td>1.559546e+05</td>\n",
       "      <td>MULTILINESTRING ((-95.63028 29.92885, -95.6302...</td>\n",
       "    </tr>\n",
       "    <tr>\n",
       "      <th>55</th>\n",
       "      <td>56</td>\n",
       "      <td>Willow Creek</td>\n",
       "      <td>17.090462</td>\n",
       "      <td>9.023764e+04</td>\n",
       "      <td>LINESTRING (-95.69934 30.05396, -95.69926 30.0...</td>\n",
       "    </tr>\n",
       "  </tbody>\n",
       "</table>\n",
       "</div>"
      ],
      "text/plain": [
       "    OBJECTID                            Name   Length_Mi      Shapelen  \\\n",
       "0          1               Addicks Reservoir   26.678537  1.408627e+05   \n",
       "1          2                    Armand Bayou   10.915853  5.763570e+04   \n",
       "2          3                        Ash Lake    1.924371  1.016068e+04   \n",
       "3          4                Barker Reservoir   19.647284  1.037377e+05   \n",
       "4          5                   Bastrop Bayou   54.157393  2.859510e+05   \n",
       "5          6               Big Island Slough    8.248943  4.355442e+04   \n",
       "6          7                     Brays Bayou   29.138200  1.538497e+05   \n",
       "7          8                    Brazos River  383.929075  2.027146e+06   \n",
       "8          9                     Brooke Lake    1.061548  5.604972e+03   \n",
       "9         10                   Buffalo Bayou   53.026858  2.799818e+05   \n",
       "10        11                     Burnett Bay   14.676190  7.749028e+04   \n",
       "11        12                     Caney Creek  187.387803  9.894076e+05   \n",
       "12        13                     Cedar Bayou   65.549973  3.461039e+05   \n",
       "13        14                 Chocolate Bayou   37.817069  1.996741e+05   \n",
       "14        15                     Clear Creek   45.831091  2.419882e+05   \n",
       "15        16                      Clear Lake   19.333112  1.020788e+05   \n",
       "16        17                  Cleveland Lake    2.001532  1.056809e+04   \n",
       "17        18                  Colorado River  305.318183  1.612080e+06   \n",
       "18        19                   Cypress Creek   64.291675  3.394600e+05   \n",
       "19        20                 Dickinson Bayou   30.535174  1.612257e+05   \n",
       "20        21     East Fork San Jacinto River   30.370624  1.603569e+05   \n",
       "21        22                   Galveston Bay   10.455122  5.520305e+04   \n",
       "22        23                    Greens Bayou   32.581332  1.720294e+05   \n",
       "23        24                     Halls Bayou   17.278450  9.123021e+04   \n",
       "24        25             Highlands Reservoir    5.627457  2.971297e+04   \n",
       "25        26            Houston Ship Channel   74.889011  3.954140e+05   \n",
       "26        27  Houston Ship Channel - Buffalo   34.151789  1.803214e+05   \n",
       "27        28  Houston Ship Channel - San Jac   21.826929  1.152462e+05   \n",
       "28        29                      Ijams Lake    0.241805  1.276732e+03   \n",
       "29        30           Intracoastal Waterway   65.631414  3.465339e+05   \n",
       "30        31                      Lake Creek   50.208839  2.651027e+05   \n",
       "31        32                    Lake Houston   87.652626  4.628059e+05   \n",
       "32        33            Little Cypress Creek   20.714617  1.093732e+05   \n",
       "33        34                      Luce Bayou    9.396767  4.961493e+04   \n",
       "34        35                   Mustang Bayou    9.189645  4.852132e+04   \n",
       "35        36        Old Brazos River Channel   13.115550  6.925010e+04   \n",
       "36        37                    Oyster Creek  198.564391  1.048420e+06   \n",
       "37        38                  Palacios Creek   63.384166  3.346684e+05   \n",
       "38        39                     Peach Creek   41.580667  2.195459e+05   \n",
       "39        40                      Peggy Lake    2.973776  1.570154e+04   \n",
       "40        41                      Pine Gully    5.055264  2.669180e+04   \n",
       "41        42               San Bernard River  161.769879  8.541450e+05   \n",
       "42        43               San Jacinto River   85.695643  4.524730e+05   \n",
       "43        44               Sheldon Reservoir   10.566027  5.578862e+04   \n",
       "44        45                     Sims  Bayou   25.024769  1.321308e+05   \n",
       "45        46               South Mayde Creek    1.310573  6.919824e+03   \n",
       "46        47                    Spring Creek   81.763532  4.317115e+05   \n",
       "47        48                     Taylor Lake    5.972941  3.153713e+04   \n",
       "48        49                   Trinity River  270.222172  1.426773e+06   \n",
       "49        50                         Unknown    8.314293  4.389947e+04   \n",
       "50        51           Upper San Jacinto Bay    3.860361  2.038271e+04   \n",
       "51        52                 Water Oak Gully    0.406518  2.146415e+03   \n",
       "52        53       West Fork Chocolate Bayou   22.224891  1.173474e+05   \n",
       "53        54     West Fork San Jacinto River   56.725435  2.995103e+05   \n",
       "54        55                 White Oak Bayou   29.536861  1.559546e+05   \n",
       "55        56                    Willow Creek   17.090462  9.023764e+04   \n",
       "\n",
       "                                             geometry  \n",
       "0   LINESTRING (-95.64818 29.79127, -95.65343 29.7...  \n",
       "1   MULTILINESTRING ((-95.07193 29.58354, -95.0721...  \n",
       "2   LINESTRING (-94.93343 29.67862, -94.93299 29.6...  \n",
       "3   LINESTRING (-95.75022 29.70561, -95.74837 29.7...  \n",
       "4   MULTILINESTRING ((-95.29925 29.09859, -95.2994...  \n",
       "5   LINESTRING (-95.04354 29.59240, -95.04378 29.5...  \n",
       "6   MULTILINESTRING ((-95.27844 29.72754, -95.2784...  \n",
       "7   MULTILINESTRING ((-96.14127 30.21328, -96.1408...  \n",
       "8   LINESTRING (-95.62494 29.60157, -95.62437 29.6...  \n",
       "9   MULTILINESTRING ((-95.35822 29.76523, -95.3579...  \n",
       "10  MULTILINESTRING ((-95.04331 29.77320, -95.0434...  \n",
       "11  MULTILINESTRING ((-95.18627 30.12807, -95.1861...  \n",
       "12  MULTILINESTRING ((-95.04972 30.04177, -95.0495...  \n",
       "13  MULTILINESTRING ((-95.26260 29.28918, -95.2632...  \n",
       "14  MULTILINESTRING ((-95.42693 29.58154, -95.4253...  \n",
       "15  MULTILINESTRING ((-95.07972 29.52598, -95.0797...  \n",
       "16  LINESTRING (-95.62489 29.62472, -95.62589 29.6...  \n",
       "17  MULTILINESTRING ((-96.40004 29.56104, -96.3990...  \n",
       "18  MULTILINESTRING ((-95.80824 29.95001, -95.8080...  \n",
       "19  MULTILINESTRING ((-94.95171 29.46784, -94.9530...  \n",
       "20  MULTILINESTRING ((-95.34138 30.70167, -95.3415...  \n",
       "21  MULTILINESTRING ((-95.01834 29.54864, -95.0178...  \n",
       "22  MULTILINESTRING ((-95.41983 29.95675, -95.4184...  \n",
       "23  LINESTRING (-95.23405 29.83860, -95.23408 29.8...  \n",
       "24  LINESTRING (-95.02970 29.82362, -95.02695 29.8...  \n",
       "25  MULTILINESTRING ((-95.22982 29.82453, -95.2302...  \n",
       "26  MULTILINESTRING ((-95.33382 29.76143, -95.3374...  \n",
       "27  MULTILINESTRING ((-95.08765 29.76477, -95.0877...  \n",
       "28  LINESTRING (-94.91534 29.68772, -94.91541 29.6...  \n",
       "29  MULTILINESTRING ((-94.36557 29.60502, -94.3612...  \n",
       "30  MULTILINESTRING ((-95.81648 30.50258, -95.8160...  \n",
       "31  MULTILINESTRING ((-95.15582 30.08102, -95.1556...  \n",
       "32  LINESTRING (-95.62084 29.96307, -95.62067 29.9...  \n",
       "33  LINESTRING (-95.09213 30.07296, -95.09250 30.0...  \n",
       "34  LINESTRING (-95.43515 29.53507, -95.43671 29.5...  \n",
       "35  LINESTRING (-95.30798 28.94429, -95.30827 28.9...  \n",
       "36  MULTILINESTRING ((-95.63422 29.62371, -95.6344...  \n",
       "37  MULTILINESTRING ((-96.14408 29.05759, -96.1440...  \n",
       "38  MULTILINESTRING ((-95.35713 30.52330, -95.3571...  \n",
       "39  LINESTRING (-95.05555 29.73053, -95.05553 29.7...  \n",
       "40  LINESTRING (-94.97963 29.75027, -94.97964 29.7...  \n",
       "41  MULTILINESTRING ((-96.12887 29.62289, -96.1313...  \n",
       "42  MULTILINESTRING ((-95.60347 30.46229, -95.6003...  \n",
       "43  LINESTRING (-95.16213 29.87523, -95.16623 29.8...  \n",
       "44  MULTILINESTRING ((-95.26902 29.69022, -95.2684...  \n",
       "45  LINESTRING (-95.62359 29.79073, -95.62349 29.7...  \n",
       "46  MULTILINESTRING ((-95.47589 30.10356, -95.4759...  \n",
       "47  MULTILINESTRING ((-95.05466 29.56493, -95.0544...  \n",
       "48  MULTILINESTRING ((-95.61700 30.93105, -95.6149...  \n",
       "49  MULTILINESTRING ((-95.61222 29.61350, -95.6122...  \n",
       "50  LINESTRING (-95.05367 29.72926, -95.05388 29.7...  \n",
       "51  LINESTRING (-94.90891 29.68706, -94.90916 29.6...  \n",
       "52  MULTILINESTRING ((-95.39117 29.47546, -95.3911...  \n",
       "53  MULTILINESTRING ((-95.39192 30.19822, -95.3921...  \n",
       "54  MULTILINESTRING ((-95.63028 29.92885, -95.6302...  \n",
       "55  LINESTRING (-95.69934 30.05396, -95.69926 30.0...  "
      ]
     },
     "execution_count": 22,
     "metadata": {},
     "output_type": "execute_result"
    }
   ],
   "source": [
    "data"
   ]
  },
  {
   "cell_type": "code",
   "execution_count": 23,
   "id": "eb129607",
   "metadata": {},
   "outputs": [],
   "source": [
    "import json"
   ]
  },
  {
   "cell_type": "code",
   "execution_count": 24,
   "id": "d0ba18fe",
   "metadata": {},
   "outputs": [],
   "source": [
    "path_to_rivers = \"../data/HGAC_Major_Rivers.geojson\"\n",
    "\n",
    "with open(path_to_rivers, 'r') as f:\n",
    "    data = json.load(f)"
   ]
  },
  {
   "cell_type": "code",
   "execution_count": 25,
   "id": "df798191",
   "metadata": {
    "scrolled": true
   },
   "outputs": [
    {
     "data": {
      "application/vnd.jupyter.widget-view+json": {
       "model_id": "928f8ece8f754070b36eee2184189d31",
       "version_major": 2,
       "version_minor": 0
      },
      "text/plain": [
       "Map(center=[29.7604, -95.498], controls=(ZoomControl(options=['position', 'zoom_in_text', 'zoom_in_title', 'zo…"
      ]
     },
     "metadata": {},
     "output_type": "display_data"
    }
   ],
   "source": [
    "from ipyleaflet import *\n",
    "import random\n",
    "\n",
    "center = (29.7604, -95.498)\n",
    "\n",
    "m = Map(center=center, zoom=13)\n",
    "\n",
    "marker = Marker(location=center, draggable=True)\n",
    "m.add_layer(marker);\n",
    "\n",
    "\n",
    "def random_color(feature):\n",
    "    return {\n",
    "        'color': 'black',\n",
    "        'fillColor': random.choice(['red', 'yellow', 'green', 'orange']),\n",
    "    }\n",
    "\n",
    "geo_json = GeoJSON(\n",
    "    data=data,\n",
    "    style={\n",
    "        'opacity': 1, 'fillOpacity': 0.1, 'weight': 1\n",
    "    },\n",
    "    hover_style={\n",
    "        'color': 'white', 'dashArray': '0', 'fillOpacity': 0.5\n",
    "    },\n",
    "    style_callback=random_color\n",
    ")\n",
    "m.add_layer(geo_json)\n",
    "\n",
    "\n",
    "\n",
    "display(m)\n",
    "\n",
    "# Now that the marker is on the Map, you can drag it with your mouse,\n",
    "# it will automatically update the `marker.location` attribute in Python\n",
    "\n",
    "# You can also update the marker location from Python, that will update the\n",
    "# marker location on the Map:\n",
    "marker.location = (50, 356)"
   ]
  },
  {
   "cell_type": "markdown",
   "id": "4a23cdf9",
   "metadata": {},
   "source": [
    "## The river polylines from GHAC are terrible, so going to find another source!"
   ]
  },
  {
   "cell_type": "code",
   "execution_count": null,
   "id": "0fa094cd",
   "metadata": {},
   "outputs": [],
   "source": []
  },
  {
   "cell_type": "code",
   "execution_count": null,
   "id": "adfad224",
   "metadata": {},
   "outputs": [],
   "source": []
  },
  {
   "cell_type": "code",
   "execution_count": null,
   "id": "248b96c5",
   "metadata": {},
   "outputs": [],
   "source": []
  },
  {
   "cell_type": "code",
   "execution_count": 29,
   "id": "cd0c6db9",
   "metadata": {},
   "outputs": [
    {
     "name": "stdout",
     "output_type": "stream",
     "text": [
      "Help on function open in module fiona:\n",
      "\n",
      "open(fp, mode='r', driver=None, schema=None, crs=None, encoding=None, layer=None, vfs=None, enabled_drivers=None, crs_wkt=None, **kwargs)\n",
      "    Open a collection for read, append, or write\n",
      "    \n",
      "    In write mode, a driver name such as \"ESRI Shapefile\" or \"GPX\" (see\n",
      "    OGR docs or ``ogr2ogr --help`` on the command line) and a schema\n",
      "    mapping such as:\n",
      "    \n",
      "      {'geometry': 'Point',\n",
      "       'properties': [('class', 'int'), ('label', 'str'),\n",
      "                      ('value', 'float')]}\n",
      "    \n",
      "    must be provided. If a particular ordering of properties (\"fields\"\n",
      "    in GIS parlance) in the written file is desired, a list of (key,\n",
      "    value) pairs as above or an ordered dict is required. If no ordering\n",
      "    is needed, a standard dict will suffice.\n",
      "    \n",
      "    A coordinate reference system for collections in write mode can be\n",
      "    defined by the ``crs`` parameter. It takes Proj4 style mappings like\n",
      "    \n",
      "      {'proj': 'longlat', 'ellps': 'WGS84', 'datum': 'WGS84',\n",
      "       'no_defs': True}\n",
      "    \n",
      "    short hand strings like\n",
      "    \n",
      "      EPSG:4326\n",
      "    \n",
      "    or WKT representations of coordinate reference systems.\n",
      "    \n",
      "    The drivers used by Fiona will try to detect the encoding of data\n",
      "    files. If they fail, you may provide the proper ``encoding``, such\n",
      "    as 'Windows-1252' for the Natural Earth datasets.\n",
      "    \n",
      "    When the provided path is to a file containing multiple named layers\n",
      "    of data, a layer can be singled out by ``layer``.\n",
      "    \n",
      "    The drivers enabled for opening datasets may be restricted to those\n",
      "    listed in the ``enabled_drivers`` parameter. This and the ``driver``\n",
      "    parameter afford much control over opening of files.\n",
      "    \n",
      "      # Trying only the GeoJSON driver when opening to read, the\n",
      "      # following raises ``DataIOError``:\n",
      "      fiona.open('example.shp', driver='GeoJSON')\n",
      "    \n",
      "      # Trying first the GeoJSON driver, then the Shapefile driver,\n",
      "      # the following succeeds:\n",
      "      fiona.open(\n",
      "          'example.shp', enabled_drivers=['GeoJSON', 'ESRI Shapefile'])\n",
      "    \n",
      "    Parameters\n",
      "    ----------\n",
      "    fp : URI (str or pathlib.Path), or file-like object\n",
      "        A dataset resource identifier or file object.\n",
      "    mode : str\n",
      "        One of 'r', to read (the default); 'a', to append; or 'w', to\n",
      "        write.\n",
      "    driver : str\n",
      "        In 'w' mode a format driver name is required. In 'r' or 'a'\n",
      "        mode this parameter has no effect.\n",
      "    schema : dict\n",
      "        Required in 'w' mode, has no effect in 'r' or 'a' mode.\n",
      "    crs : str or dict\n",
      "        Required in 'w' mode, has no effect in 'r' or 'a' mode.\n",
      "    encoding : str\n",
      "        Name of the encoding used to encode or decode the dataset.\n",
      "    layer : int or str\n",
      "        The integer index or name of a layer in a multi-layer dataset.\n",
      "    vfs : str\n",
      "        This is a deprecated parameter. A URI scheme such as \"zip://\"\n",
      "        should be used instead.\n",
      "    enabled_drivers : list\n",
      "        An optional list of driver names to used when opening a\n",
      "        collection.\n",
      "    crs_wkt : str\n",
      "        An optional WKT representation of a coordinate reference\n",
      "        system.\n",
      "    kwargs : mapping\n",
      "        Other driver-specific parameters that will be interpreted by\n",
      "        the OGR library as layer creation or opening options.\n",
      "    \n",
      "    Returns\n",
      "    -------\n",
      "    Collection\n",
      "\n"
     ]
    }
   ],
   "source": [
    "import fiona; help(fiona.open)"
   ]
  },
  {
   "cell_type": "code",
   "execution_count": 30,
   "id": "62f0479d",
   "metadata": {},
   "outputs": [
    {
     "name": "stdout",
     "output_type": "stream",
     "text": [
      "<class 'geopandas.geodataframe.GeoDataFrame'>\n",
      "     permanent_       fdate  resolution   gnis_id         gnis_name  lengthkm  \\\n",
      "0     113253387  2012-01-04           2  01372946  Carpenters Bayou     0.096   \n",
      "1     113251981  2012-01-04           2  01374147    Horsepen Creek     0.366   \n",
      "2     113253741  2012-01-04           2      None              None     0.762   \n",
      "3     113253789  2012-01-04           2      None              None     0.394   \n",
      "4     113254341  2012-01-04           2      None              None     0.257   \n",
      "...         ...         ...         ...       ...               ...       ...   \n",
      "2877  113252647  2012-01-04           2      None              None     0.099   \n",
      "2878  113252359  2012-01-04           2      None              None     0.324   \n",
      "2879  113253019  2012-01-04           2  01374467     Langham Creek     0.348   \n",
      "2880  113253339  2012-01-04           2      None              None     0.069   \n",
      "2881  113254593  2012-01-04           2      None              None     0.080   \n",
      "\n",
      "           reachcode  flowdir wbarea_per  ftype  fcode  mainpath  innetwork  \\\n",
      "0     12040104002078        1       None    336  33600         0          1   \n",
      "1     12040104001741        1       None    336  33600         0          1   \n",
      "2     12040104002165        0       None    336  33600         0          0   \n",
      "3     12040104000849        1       None    336  33600         0          1   \n",
      "4     12040104002317        1  113262549    558  55800         0          1   \n",
      "...              ...      ...        ...    ...    ...       ...        ...   \n",
      "2877  12040104001922        1  113260513    558  55800         0          1   \n",
      "2878  12040104001853        1  113259969    558  55800         0          1   \n",
      "2879  12040104014573        1  113261273    558  55800         0          1   \n",
      "2880  12040104002071        1  113261445    558  55800         0          1   \n",
      "2881  12040104000763        1  113262861    558  55800         0          1   \n",
      "\n",
      "      visibility  SHAPE_Leng  Enabled  ObjectID  \\\n",
      "0         500000    0.000883        1         1   \n",
      "1         100000    0.003599        1         2   \n",
      "2        5000000    0.007062        1         3   \n",
      "3              0    0.003793        1         4   \n",
      "4        5000000    0.002470        1         5   \n",
      "...          ...         ...      ...       ...   \n",
      "2877     5000000    0.000984        1      2878   \n",
      "2878           0    0.003120        1      2879   \n",
      "2879     1000000    0.003323        1      2880   \n",
      "2880     5000000    0.000682        1      2881   \n",
      "2881       50000    0.000763        1      2882   \n",
      "\n",
      "                                               geometry  \n",
      "0     LINESTRING Z (-95.15896 29.83319 0.00000, -95....  \n",
      "1     LINESTRING Z (-95.67572 29.91342 0.00000, -95....  \n",
      "2     LINESTRING Z (-95.13869 29.81608 0.00000, -95....  \n",
      "3     LINESTRING Z (-95.02974 29.80944 0.00000, -95....  \n",
      "4     LINESTRING Z (-95.69547 29.77942 0.00000, -95....  \n",
      "...                                                 ...  \n",
      "2877  LINESTRING Z (-95.85593 29.87589 0.00000, -95....  \n",
      "2878  LINESTRING Z (-95.57622 29.89115 0.00000, -95....  \n",
      "2879  LINESTRING Z (-95.62058 29.85625 0.00000, -95....  \n",
      "2880  LINESTRING Z (-95.81701 29.83837 0.00000, -95....  \n",
      "2881  LINESTRING Z (-95.11432 29.75912 0.00000, -95....  \n",
      "\n",
      "[2882 rows x 18 columns]\n"
     ]
    }
   ],
   "source": [
    "import geopandas as gpd\n",
    "### Should be this https://www.sciencebase.gov/catalog/item/5a58a64ce4b00b291cd69853\n",
    "shapefile = gpd.read_file(\"../data/NHD_H_12040104_HU8_Shape/Shape/NHDFlowline.shp\")\n",
    "print(type(shapefile))\n",
    "print(shapefile)"
   ]
  },
  {
   "cell_type": "code",
   "execution_count": 31,
   "id": "0e7580e6",
   "metadata": {},
   "outputs": [
    {
     "data": {
      "text/plain": [
       "geopandas.geodataframe.GeoDataFrame"
      ]
     },
     "execution_count": 31,
     "metadata": {},
     "output_type": "execute_result"
    }
   ],
   "source": [
    "type(shapefile)"
   ]
  },
  {
   "cell_type": "code",
   "execution_count": null,
   "id": "9fa47be4",
   "metadata": {},
   "outputs": [],
   "source": []
  },
  {
   "cell_type": "code",
   "execution_count": null,
   "id": "93631b4c",
   "metadata": {},
   "outputs": [],
   "source": []
  },
  {
   "cell_type": "code",
   "execution_count": 32,
   "id": "da76ed95",
   "metadata": {},
   "outputs": [
    {
     "data": {
      "text/plain": [
       "Index(['permanent_', 'fdate', 'resolution', 'gnis_id', 'gnis_name', 'lengthkm',\n",
       "       'reachcode', 'flowdir', 'wbarea_per', 'ftype', 'fcode', 'mainpath',\n",
       "       'innetwork', 'visibility', 'SHAPE_Leng', 'Enabled', 'ObjectID',\n",
       "       'geometry'],\n",
       "      dtype='object')"
      ]
     },
     "execution_count": 32,
     "metadata": {},
     "output_type": "execute_result"
    }
   ],
   "source": [
    "shapefile.columns"
   ]
  },
  {
   "cell_type": "code",
   "execution_count": 33,
   "id": "84edef49",
   "metadata": {},
   "outputs": [],
   "source": [
    "#r93271559 = shapefile[shapefile['permanent_']=='93271559']"
   ]
  },
  {
   "cell_type": "code",
   "execution_count": 34,
   "id": "3b17235c",
   "metadata": {},
   "outputs": [],
   "source": [
    "#r93271559 "
   ]
  },
  {
   "cell_type": "code",
   "execution_count": 35,
   "id": "0c3f2f25",
   "metadata": {},
   "outputs": [
    {
     "data": {
      "application/vnd.jupyter.widget-view+json": {
       "model_id": "37f8c3df950b43f78e1dd1732a16611c",
       "version_major": 2,
       "version_minor": 0
      },
      "text/plain": [
       "Map(center=[29.7604, -95.498], controls=(ZoomControl(options=['position', 'zoom_in_text', 'zoom_in_title', 'zo…"
      ]
     },
     "metadata": {},
     "output_type": "display_data"
    }
   ],
   "source": [
    "center = (29.7604, -95.498)\n",
    "\n",
    "m2 = Map(center=center, zoom=13)\n",
    "\n",
    "marker = Marker(location=center, draggable=True)\n",
    "m2.add_layer(marker);\n",
    "\n",
    "\n",
    "def random_color(feature):\n",
    "    return {\n",
    "        'color': 'black',\n",
    "        'fillColor': random.choice(['red', 'yellow', 'green', 'orange']),\n",
    "    }\n",
    "\n",
    "riverGeoData = GeoData(geo_dataframe = shapefile)\n",
    "\n",
    "m2.add_layer(riverGeoData)\n",
    "\n",
    "\n",
    "display(m2)\n",
    "\n",
    "# Now that the marker is on the Map, you can drag it with your mouse,\n",
    "# it will automatically update the `marker.location` attribute in Python\n",
    "\n",
    "# You can also update the marker location from Python, that will update the\n",
    "# marker location on the Map:\n",
    "marker.location = (50, 356)"
   ]
  },
  {
   "cell_type": "markdown",
   "id": "30fef06f",
   "metadata": {},
   "source": [
    "The USGS dataset is much better"
   ]
  },
  {
   "cell_type": "markdown",
   "id": "5c6b42b6",
   "metadata": {},
   "source": [
    "### Let's just look at Buffalo Bayou"
   ]
  },
  {
   "cell_type": "code",
   "execution_count": 92,
   "id": "3cdeb9ab",
   "metadata": {},
   "outputs": [],
   "source": [
    "geodf_buffaloBayou = shapefile[shapefile['gnis_name']=='Buffalo Bayou']"
   ]
  },
  {
   "cell_type": "code",
   "execution_count": 139,
   "id": "c2382064",
   "metadata": {},
   "outputs": [
    {
     "data": {
      "text/html": [
       "<div>\n",
       "<style scoped>\n",
       "    .dataframe tbody tr th:only-of-type {\n",
       "        vertical-align: middle;\n",
       "    }\n",
       "\n",
       "    .dataframe tbody tr th {\n",
       "        vertical-align: top;\n",
       "    }\n",
       "\n",
       "    .dataframe thead th {\n",
       "        text-align: right;\n",
       "    }\n",
       "</style>\n",
       "<table border=\"1\" class=\"dataframe\">\n",
       "  <thead>\n",
       "    <tr style=\"text-align: right;\">\n",
       "      <th></th>\n",
       "      <th>permanent_</th>\n",
       "      <th>fdate</th>\n",
       "      <th>resolution</th>\n",
       "      <th>gnis_id</th>\n",
       "      <th>gnis_name</th>\n",
       "      <th>lengthkm</th>\n",
       "      <th>reachcode</th>\n",
       "      <th>flowdir</th>\n",
       "      <th>wbarea_per</th>\n",
       "      <th>ftype</th>\n",
       "      <th>fcode</th>\n",
       "      <th>mainpath</th>\n",
       "      <th>innetwork</th>\n",
       "      <th>visibility</th>\n",
       "      <th>SHAPE_Leng</th>\n",
       "      <th>Enabled</th>\n",
       "      <th>ObjectID</th>\n",
       "      <th>geometry</th>\n",
       "    </tr>\n",
       "  </thead>\n",
       "  <tbody>\n",
       "    <tr>\n",
       "      <th>5</th>\n",
       "      <td>113254967</td>\n",
       "      <td>2012-01-04</td>\n",
       "      <td>2</td>\n",
       "      <td>01372802</td>\n",
       "      <td>Buffalo Bayou</td>\n",
       "      <td>0.019000</td>\n",
       "      <td>12040104000079</td>\n",
       "      <td>1</td>\n",
       "      <td>120007517</td>\n",
       "      <td>558</td>\n",
       "      <td>55800</td>\n",
       "      <td>0</td>\n",
       "      <td>1</td>\n",
       "      <td>5000000</td>\n",
       "      <td>0.000182</td>\n",
       "      <td>1</td>\n",
       "      <td>6</td>\n",
       "      <td>LINESTRING Z (-95.80701 29.74327 0.00000, -95....</td>\n",
       "    </tr>\n",
       "    <tr>\n",
       "      <th>49</th>\n",
       "      <td>113255467</td>\n",
       "      <td>2012-01-04</td>\n",
       "      <td>2</td>\n",
       "      <td>01372802</td>\n",
       "      <td>Buffalo Bayou</td>\n",
       "      <td>1.941000</td>\n",
       "      <td>12040104000077</td>\n",
       "      <td>1</td>\n",
       "      <td>120007517</td>\n",
       "      <td>558</td>\n",
       "      <td>55800</td>\n",
       "      <td>0</td>\n",
       "      <td>1</td>\n",
       "      <td>5000000</td>\n",
       "      <td>0.019279</td>\n",
       "      <td>1</td>\n",
       "      <td>50</td>\n",
       "      <td>LINESTRING Z (-95.73154 29.71879 0.00000, -95....</td>\n",
       "    </tr>\n",
       "    <tr>\n",
       "      <th>89</th>\n",
       "      <td>113254565</td>\n",
       "      <td>2012-01-04</td>\n",
       "      <td>2</td>\n",
       "      <td>01372802</td>\n",
       "      <td>Buffalo Bayou</td>\n",
       "      <td>0.107000</td>\n",
       "      <td>12040104000056</td>\n",
       "      <td>1</td>\n",
       "      <td>None</td>\n",
       "      <td>460</td>\n",
       "      <td>46006</td>\n",
       "      <td>0</td>\n",
       "      <td>1</td>\n",
       "      <td>5000000</td>\n",
       "      <td>0.000984</td>\n",
       "      <td>1</td>\n",
       "      <td>90</td>\n",
       "      <td>LINESTRING Z (-95.49628 29.76208 0.00000, -95....</td>\n",
       "    </tr>\n",
       "    <tr>\n",
       "      <th>143</th>\n",
       "      <td>113254943</td>\n",
       "      <td>2015-03-20</td>\n",
       "      <td>2</td>\n",
       "      <td>01372802</td>\n",
       "      <td>Buffalo Bayou</td>\n",
       "      <td>0.805279</td>\n",
       "      <td>12040104002440</td>\n",
       "      <td>1</td>\n",
       "      <td>120007513</td>\n",
       "      <td>558</td>\n",
       "      <td>55800</td>\n",
       "      <td>0</td>\n",
       "      <td>1</td>\n",
       "      <td>5000000</td>\n",
       "      <td>0.007887</td>\n",
       "      <td>1</td>\n",
       "      <td>144</td>\n",
       "      <td>LINESTRING Z (-95.10885 29.74048 0.00000, -95....</td>\n",
       "    </tr>\n",
       "    <tr>\n",
       "      <th>187</th>\n",
       "      <td>113255073</td>\n",
       "      <td>2012-01-04</td>\n",
       "      <td>2</td>\n",
       "      <td>01372802</td>\n",
       "      <td>Buffalo Bayou</td>\n",
       "      <td>0.029000</td>\n",
       "      <td>12040104014583</td>\n",
       "      <td>1</td>\n",
       "      <td>113263621</td>\n",
       "      <td>558</td>\n",
       "      <td>55800</td>\n",
       "      <td>0</td>\n",
       "      <td>1</td>\n",
       "      <td>5000000</td>\n",
       "      <td>0.000287</td>\n",
       "      <td>1</td>\n",
       "      <td>188</td>\n",
       "      <td>LINESTRING Z (-95.70514 29.73612 0.00000, -95....</td>\n",
       "    </tr>\n",
       "    <tr>\n",
       "      <th>...</th>\n",
       "      <td>...</td>\n",
       "      <td>...</td>\n",
       "      <td>...</td>\n",
       "      <td>...</td>\n",
       "      <td>...</td>\n",
       "      <td>...</td>\n",
       "      <td>...</td>\n",
       "      <td>...</td>\n",
       "      <td>...</td>\n",
       "      <td>...</td>\n",
       "      <td>...</td>\n",
       "      <td>...</td>\n",
       "      <td>...</td>\n",
       "      <td>...</td>\n",
       "      <td>...</td>\n",
       "      <td>...</td>\n",
       "      <td>...</td>\n",
       "      <td>...</td>\n",
       "    </tr>\n",
       "    <tr>\n",
       "      <th>2765</th>\n",
       "      <td>113255133</td>\n",
       "      <td>2012-01-04</td>\n",
       "      <td>2</td>\n",
       "      <td>01372802</td>\n",
       "      <td>Buffalo Bayou</td>\n",
       "      <td>2.198000</td>\n",
       "      <td>12040104000079</td>\n",
       "      <td>1</td>\n",
       "      <td>120007517</td>\n",
       "      <td>558</td>\n",
       "      <td>55800</td>\n",
       "      <td>0</td>\n",
       "      <td>1</td>\n",
       "      <td>5000000</td>\n",
       "      <td>0.021961</td>\n",
       "      <td>1</td>\n",
       "      <td>2766</td>\n",
       "      <td>LINESTRING Z (-95.80687 29.74315 0.00000, -95....</td>\n",
       "    </tr>\n",
       "    <tr>\n",
       "      <th>2787</th>\n",
       "      <td>113254955</td>\n",
       "      <td>2012-01-04</td>\n",
       "      <td>2</td>\n",
       "      <td>01372802</td>\n",
       "      <td>Buffalo Bayou</td>\n",
       "      <td>2.109000</td>\n",
       "      <td>12040104000079</td>\n",
       "      <td>1</td>\n",
       "      <td>120007517</td>\n",
       "      <td>558</td>\n",
       "      <td>55800</td>\n",
       "      <td>0</td>\n",
       "      <td>1</td>\n",
       "      <td>5000000</td>\n",
       "      <td>0.020455</td>\n",
       "      <td>1</td>\n",
       "      <td>2788</td>\n",
       "      <td>LINESTRING Z (-95.81434 29.75095 0.00000, -95....</td>\n",
       "    </tr>\n",
       "    <tr>\n",
       "      <th>2788</th>\n",
       "      <td>113254957</td>\n",
       "      <td>2015-03-20</td>\n",
       "      <td>2</td>\n",
       "      <td>01372802</td>\n",
       "      <td>Buffalo Bayou</td>\n",
       "      <td>2.026800</td>\n",
       "      <td>12040104000033</td>\n",
       "      <td>1</td>\n",
       "      <td>120007513</td>\n",
       "      <td>558</td>\n",
       "      <td>55800</td>\n",
       "      <td>0</td>\n",
       "      <td>1</td>\n",
       "      <td>5000000</td>\n",
       "      <td>0.020629</td>\n",
       "      <td>1</td>\n",
       "      <td>2789</td>\n",
       "      <td>LINESTRING Z (-95.20382 29.73964 0.00000, -95....</td>\n",
       "    </tr>\n",
       "    <tr>\n",
       "      <th>2802</th>\n",
       "      <td>113258055</td>\n",
       "      <td>2012-01-04</td>\n",
       "      <td>2</td>\n",
       "      <td>01372802</td>\n",
       "      <td>Buffalo Bayou</td>\n",
       "      <td>1.782000</td>\n",
       "      <td>12040104000057</td>\n",
       "      <td>1</td>\n",
       "      <td>None</td>\n",
       "      <td>460</td>\n",
       "      <td>46006</td>\n",
       "      <td>0</td>\n",
       "      <td>1</td>\n",
       "      <td>5000000</td>\n",
       "      <td>0.017505</td>\n",
       "      <td>1</td>\n",
       "      <td>2803</td>\n",
       "      <td>LINESTRING Z (-95.53949 29.75237 0.00000, -95....</td>\n",
       "    </tr>\n",
       "    <tr>\n",
       "      <th>2835</th>\n",
       "      <td>113254489</td>\n",
       "      <td>2012-01-04</td>\n",
       "      <td>2</td>\n",
       "      <td>01372802</td>\n",
       "      <td>Buffalo Bayou</td>\n",
       "      <td>2.348000</td>\n",
       "      <td>12040104002337</td>\n",
       "      <td>1</td>\n",
       "      <td>120007515</td>\n",
       "      <td>558</td>\n",
       "      <td>55800</td>\n",
       "      <td>0</td>\n",
       "      <td>1</td>\n",
       "      <td>5000000</td>\n",
       "      <td>0.023695</td>\n",
       "      <td>1</td>\n",
       "      <td>2836</td>\n",
       "      <td>LINESTRING Z (-95.64423 29.76953 0.00000, -95....</td>\n",
       "    </tr>\n",
       "  </tbody>\n",
       "</table>\n",
       "<p>76 rows × 18 columns</p>\n",
       "</div>"
      ],
      "text/plain": [
       "     permanent_       fdate  resolution   gnis_id      gnis_name  lengthkm  \\\n",
       "5     113254967  2012-01-04           2  01372802  Buffalo Bayou  0.019000   \n",
       "49    113255467  2012-01-04           2  01372802  Buffalo Bayou  1.941000   \n",
       "89    113254565  2012-01-04           2  01372802  Buffalo Bayou  0.107000   \n",
       "143   113254943  2015-03-20           2  01372802  Buffalo Bayou  0.805279   \n",
       "187   113255073  2012-01-04           2  01372802  Buffalo Bayou  0.029000   \n",
       "...         ...         ...         ...       ...            ...       ...   \n",
       "2765  113255133  2012-01-04           2  01372802  Buffalo Bayou  2.198000   \n",
       "2787  113254955  2012-01-04           2  01372802  Buffalo Bayou  2.109000   \n",
       "2788  113254957  2015-03-20           2  01372802  Buffalo Bayou  2.026800   \n",
       "2802  113258055  2012-01-04           2  01372802  Buffalo Bayou  1.782000   \n",
       "2835  113254489  2012-01-04           2  01372802  Buffalo Bayou  2.348000   \n",
       "\n",
       "           reachcode  flowdir wbarea_per  ftype  fcode  mainpath  innetwork  \\\n",
       "5     12040104000079        1  120007517    558  55800         0          1   \n",
       "49    12040104000077        1  120007517    558  55800         0          1   \n",
       "89    12040104000056        1       None    460  46006         0          1   \n",
       "143   12040104002440        1  120007513    558  55800         0          1   \n",
       "187   12040104014583        1  113263621    558  55800         0          1   \n",
       "...              ...      ...        ...    ...    ...       ...        ...   \n",
       "2765  12040104000079        1  120007517    558  55800         0          1   \n",
       "2787  12040104000079        1  120007517    558  55800         0          1   \n",
       "2788  12040104000033        1  120007513    558  55800         0          1   \n",
       "2802  12040104000057        1       None    460  46006         0          1   \n",
       "2835  12040104002337        1  120007515    558  55800         0          1   \n",
       "\n",
       "      visibility  SHAPE_Leng  Enabled  ObjectID  \\\n",
       "5        5000000    0.000182        1         6   \n",
       "49       5000000    0.019279        1        50   \n",
       "89       5000000    0.000984        1        90   \n",
       "143      5000000    0.007887        1       144   \n",
       "187      5000000    0.000287        1       188   \n",
       "...          ...         ...      ...       ...   \n",
       "2765     5000000    0.021961        1      2766   \n",
       "2787     5000000    0.020455        1      2788   \n",
       "2788     5000000    0.020629        1      2789   \n",
       "2802     5000000    0.017505        1      2803   \n",
       "2835     5000000    0.023695        1      2836   \n",
       "\n",
       "                                               geometry  \n",
       "5     LINESTRING Z (-95.80701 29.74327 0.00000, -95....  \n",
       "49    LINESTRING Z (-95.73154 29.71879 0.00000, -95....  \n",
       "89    LINESTRING Z (-95.49628 29.76208 0.00000, -95....  \n",
       "143   LINESTRING Z (-95.10885 29.74048 0.00000, -95....  \n",
       "187   LINESTRING Z (-95.70514 29.73612 0.00000, -95....  \n",
       "...                                                 ...  \n",
       "2765  LINESTRING Z (-95.80687 29.74315 0.00000, -95....  \n",
       "2787  LINESTRING Z (-95.81434 29.75095 0.00000, -95....  \n",
       "2788  LINESTRING Z (-95.20382 29.73964 0.00000, -95....  \n",
       "2802  LINESTRING Z (-95.53949 29.75237 0.00000, -95....  \n",
       "2835  LINESTRING Z (-95.64423 29.76953 0.00000, -95....  \n",
       "\n",
       "[76 rows x 18 columns]"
      ]
     },
     "execution_count": 139,
     "metadata": {},
     "output_type": "execute_result"
    }
   ],
   "source": [
    "geodf_buffaloBayou"
   ]
  },
  {
   "cell_type": "code",
   "execution_count": 138,
   "id": "fc45c812",
   "metadata": {},
   "outputs": [
    {
     "data": {
      "application/vnd.jupyter.widget-view+json": {
       "model_id": "96135be1b21b4281ac75ea2b8d61a29b",
       "version_major": 2,
       "version_minor": 0
      },
      "text/plain": [
       "Map(center=[29.7604, -95.498], controls=(ZoomControl(options=['position', 'zoom_in_text', 'zoom_in_title', 'zo…"
      ]
     },
     "metadata": {},
     "output_type": "display_data"
    }
   ],
   "source": [
    "center = (29.7604, -95.498)\n",
    "\n",
    "m_bb = Map(center=center, zoom=10)\n",
    "\n",
    "marker = Marker(location=center, draggable=True)\n",
    "m_bb.add_layer(marker);\n",
    "\n",
    "\n",
    "def random_color(feature):\n",
    "    return {\n",
    "        'color': 'black',\n",
    "        'fillColor': random.choice(['red', 'yellow', 'green', 'orange']),\n",
    "    }\n",
    "\n",
    "riverGeoData = GeoData(geo_dataframe = geodf_buffaloBayou)\n",
    "\n",
    "m_bb.add_layer(riverGeoData)\n",
    "\n",
    "\n",
    "display(m_bb)\n"
   ]
  },
  {
   "cell_type": "code",
   "execution_count": null,
   "id": "dfbf85ff",
   "metadata": {},
   "outputs": [],
   "source": []
  },
  {
   "cell_type": "code",
   "execution_count": 140,
   "id": "2db7f26c",
   "metadata": {},
   "outputs": [
    {
     "data": {
      "text/plain": [
       "geopandas.geodataframe.GeoDataFrame"
      ]
     },
     "execution_count": 140,
     "metadata": {},
     "output_type": "execute_result"
    }
   ],
   "source": [
    "type(geodf_buffaloBayou)"
   ]
  },
  {
   "cell_type": "code",
   "execution_count": 146,
   "id": "181754b7",
   "metadata": {},
   "outputs": [
    {
     "data": {
      "text/plain": [
       "<Geographic 2D CRS: EPSG:4269>\n",
       "Name: NAD83\n",
       "Axis Info [ellipsoidal]:\n",
       "- Lat[north]: Geodetic latitude (degree)\n",
       "- Lon[east]: Geodetic longitude (degree)\n",
       "Area of Use:\n",
       "- name: North America - onshore and offshore: Canada - Alberta; British Columbia; Manitoba; New Brunswick; Newfoundland and Labrador; Northwest Territories; Nova Scotia; Nunavut; Ontario; Prince Edward Island; Quebec; Saskatchewan; Yukon. Puerto Rico. United States (USA) - Alabama; Alaska; Arizona; Arkansas; California; Colorado; Connecticut; Delaware; Florida; Georgia; Hawaii; Idaho; Illinois; Indiana; Iowa; Kansas; Kentucky; Louisiana; Maine; Maryland; Massachusetts; Michigan; Minnesota; Mississippi; Missouri; Montana; Nebraska; Nevada; New Hampshire; New Jersey; New Mexico; New York; North Carolina; North Dakota; Ohio; Oklahoma; Oregon; Pennsylvania; Rhode Island; South Carolina; South Dakota; Tennessee; Texas; Utah; Vermont; Virginia; Washington; West Virginia; Wisconsin; Wyoming. US Virgin Islands. British Virgin Islands.\n",
       "- bounds: (167.65, 14.92, -40.73, 86.45)\n",
       "Datum: North American Datum 1983\n",
       "- Ellipsoid: GRS 1980\n",
       "- Prime Meridian: Greenwich"
      ]
     },
     "execution_count": 146,
     "metadata": {},
     "output_type": "execute_result"
    }
   ],
   "source": [
    "geodf_buffaloBayou.crs"
   ]
  },
  {
   "cell_type": "code",
   "execution_count": 144,
   "id": "6efd03c0",
   "metadata": {},
   "outputs": [],
   "source": [
    "# geodf_buffaloBayou_projected = geodf_buffaloBayou.to_crs(5070)\n",
    "geodf_buffaloBayou_projected = geodf_buffaloBayou"
   ]
  },
  {
   "cell_type": "code",
   "execution_count": 179,
   "id": "d9f3981d",
   "metadata": {},
   "outputs": [
    {
     "name": "stderr",
     "output_type": "stream",
     "text": [
      "/var/folders/ry/tr7t3nh122z_0n6rz2cl3lv40000gn/T/ipykernel_66338/3837858789.py:1: UserWarning: Geometry is in a geographic CRS. Results from 'buffer' are likely incorrect. Use 'GeoSeries.to_crs()' to re-project geometries to a projected CRS before this operation.\n",
      "\n",
      "  geodf_buffaloBayou_projected['buffer_geometry'] = geodf_buffaloBayou_projected.geometry.buffer(0.001)\n",
      "/Users/justingosses/opt/miniconda3/envs/river-maps-experiments/lib/python3.10/site-packages/geopandas/geodataframe.py:1456: SettingWithCopyWarning: \n",
      "A value is trying to be set on a copy of a slice from a DataFrame.\n",
      "Try using .loc[row_indexer,col_indexer] = value instead\n",
      "\n",
      "See the caveats in the documentation: https://pandas.pydata.org/pandas-docs/stable/user_guide/indexing.html#returning-a-view-versus-a-copy\n",
      "  super().__setitem__(key, value)\n"
     ]
    }
   ],
   "source": [
    "geodf_buffaloBayou_projected['buffer_geometry'] = geodf_buffaloBayou_projected.geometry.buffer(0.001)"
   ]
  },
  {
   "cell_type": "code",
   "execution_count": 180,
   "id": "ff74f796",
   "metadata": {},
   "outputs": [
    {
     "data": {
      "text/html": [
       "<div>\n",
       "<style scoped>\n",
       "    .dataframe tbody tr th:only-of-type {\n",
       "        vertical-align: middle;\n",
       "    }\n",
       "\n",
       "    .dataframe tbody tr th {\n",
       "        vertical-align: top;\n",
       "    }\n",
       "\n",
       "    .dataframe thead th {\n",
       "        text-align: right;\n",
       "    }\n",
       "</style>\n",
       "<table border=\"1\" class=\"dataframe\">\n",
       "  <thead>\n",
       "    <tr style=\"text-align: right;\">\n",
       "      <th></th>\n",
       "      <th>permanent_</th>\n",
       "      <th>fdate</th>\n",
       "      <th>resolution</th>\n",
       "      <th>gnis_id</th>\n",
       "      <th>gnis_name</th>\n",
       "      <th>lengthkm</th>\n",
       "      <th>reachcode</th>\n",
       "      <th>flowdir</th>\n",
       "      <th>wbarea_per</th>\n",
       "      <th>ftype</th>\n",
       "      <th>fcode</th>\n",
       "      <th>mainpath</th>\n",
       "      <th>innetwork</th>\n",
       "      <th>visibility</th>\n",
       "      <th>SHAPE_Leng</th>\n",
       "      <th>Enabled</th>\n",
       "      <th>ObjectID</th>\n",
       "      <th>geometry</th>\n",
       "      <th>buffer_geometry</th>\n",
       "    </tr>\n",
       "  </thead>\n",
       "  <tbody>\n",
       "    <tr>\n",
       "      <th>5</th>\n",
       "      <td>113254967</td>\n",
       "      <td>2012-01-04</td>\n",
       "      <td>2</td>\n",
       "      <td>01372802</td>\n",
       "      <td>Buffalo Bayou</td>\n",
       "      <td>0.019000</td>\n",
       "      <td>12040104000079</td>\n",
       "      <td>1</td>\n",
       "      <td>120007517</td>\n",
       "      <td>558</td>\n",
       "      <td>55800</td>\n",
       "      <td>0</td>\n",
       "      <td>1</td>\n",
       "      <td>5000000</td>\n",
       "      <td>0.000182</td>\n",
       "      <td>1</td>\n",
       "      <td>6</td>\n",
       "      <td>LINESTRING Z (-95.80701 29.74327 0.00000, -95....</td>\n",
       "      <td>POLYGON ((-95.80629 29.74398, -95.80625 29.743...</td>\n",
       "    </tr>\n",
       "    <tr>\n",
       "      <th>49</th>\n",
       "      <td>113255467</td>\n",
       "      <td>2012-01-04</td>\n",
       "      <td>2</td>\n",
       "      <td>01372802</td>\n",
       "      <td>Buffalo Bayou</td>\n",
       "      <td>1.941000</td>\n",
       "      <td>12040104000077</td>\n",
       "      <td>1</td>\n",
       "      <td>120007517</td>\n",
       "      <td>558</td>\n",
       "      <td>55800</td>\n",
       "      <td>0</td>\n",
       "      <td>1</td>\n",
       "      <td>5000000</td>\n",
       "      <td>0.019279</td>\n",
       "      <td>1</td>\n",
       "      <td>50</td>\n",
       "      <td>LINESTRING Z (-95.73154 29.71879 0.00000, -95....</td>\n",
       "      <td>POLYGON ((-95.73046 29.71938, -95.72950 29.719...</td>\n",
       "    </tr>\n",
       "    <tr>\n",
       "      <th>89</th>\n",
       "      <td>113254565</td>\n",
       "      <td>2012-01-04</td>\n",
       "      <td>2</td>\n",
       "      <td>01372802</td>\n",
       "      <td>Buffalo Bayou</td>\n",
       "      <td>0.107000</td>\n",
       "      <td>12040104000056</td>\n",
       "      <td>1</td>\n",
       "      <td>None</td>\n",
       "      <td>460</td>\n",
       "      <td>46006</td>\n",
       "      <td>0</td>\n",
       "      <td>1</td>\n",
       "      <td>5000000</td>\n",
       "      <td>0.000984</td>\n",
       "      <td>1</td>\n",
       "      <td>90</td>\n",
       "      <td>LINESTRING Z (-95.49628 29.76208 0.00000, -95....</td>\n",
       "      <td>POLYGON ((-95.49702 29.76275, -95.49703 29.762...</td>\n",
       "    </tr>\n",
       "    <tr>\n",
       "      <th>143</th>\n",
       "      <td>113254943</td>\n",
       "      <td>2015-03-20</td>\n",
       "      <td>2</td>\n",
       "      <td>01372802</td>\n",
       "      <td>Buffalo Bayou</td>\n",
       "      <td>0.805279</td>\n",
       "      <td>12040104002440</td>\n",
       "      <td>1</td>\n",
       "      <td>120007513</td>\n",
       "      <td>558</td>\n",
       "      <td>55800</td>\n",
       "      <td>0</td>\n",
       "      <td>1</td>\n",
       "      <td>5000000</td>\n",
       "      <td>0.007887</td>\n",
       "      <td>1</td>\n",
       "      <td>144</td>\n",
       "      <td>LINESTRING Z (-95.10885 29.74048 0.00000, -95....</td>\n",
       "      <td>POLYGON ((-95.10893 29.74154, -95.10822 29.741...</td>\n",
       "    </tr>\n",
       "    <tr>\n",
       "      <th>187</th>\n",
       "      <td>113255073</td>\n",
       "      <td>2012-01-04</td>\n",
       "      <td>2</td>\n",
       "      <td>01372802</td>\n",
       "      <td>Buffalo Bayou</td>\n",
       "      <td>0.029000</td>\n",
       "      <td>12040104014583</td>\n",
       "      <td>1</td>\n",
       "      <td>113263621</td>\n",
       "      <td>558</td>\n",
       "      <td>55800</td>\n",
       "      <td>0</td>\n",
       "      <td>1</td>\n",
       "      <td>5000000</td>\n",
       "      <td>0.000287</td>\n",
       "      <td>1</td>\n",
       "      <td>188</td>\n",
       "      <td>LINESTRING Z (-95.70514 29.73612 0.00000, -95....</td>\n",
       "      <td>POLYGON ((-95.70610 29.73638, -95.70607 29.736...</td>\n",
       "    </tr>\n",
       "    <tr>\n",
       "      <th>...</th>\n",
       "      <td>...</td>\n",
       "      <td>...</td>\n",
       "      <td>...</td>\n",
       "      <td>...</td>\n",
       "      <td>...</td>\n",
       "      <td>...</td>\n",
       "      <td>...</td>\n",
       "      <td>...</td>\n",
       "      <td>...</td>\n",
       "      <td>...</td>\n",
       "      <td>...</td>\n",
       "      <td>...</td>\n",
       "      <td>...</td>\n",
       "      <td>...</td>\n",
       "      <td>...</td>\n",
       "      <td>...</td>\n",
       "      <td>...</td>\n",
       "      <td>...</td>\n",
       "      <td>...</td>\n",
       "    </tr>\n",
       "    <tr>\n",
       "      <th>2765</th>\n",
       "      <td>113255133</td>\n",
       "      <td>2012-01-04</td>\n",
       "      <td>2</td>\n",
       "      <td>01372802</td>\n",
       "      <td>Buffalo Bayou</td>\n",
       "      <td>2.198000</td>\n",
       "      <td>12040104000079</td>\n",
       "      <td>1</td>\n",
       "      <td>120007517</td>\n",
       "      <td>558</td>\n",
       "      <td>55800</td>\n",
       "      <td>0</td>\n",
       "      <td>1</td>\n",
       "      <td>5000000</td>\n",
       "      <td>0.021961</td>\n",
       "      <td>1</td>\n",
       "      <td>2766</td>\n",
       "      <td>LINESTRING Z (-95.80687 29.74315 0.00000, -95....</td>\n",
       "      <td>POLYGON ((-95.80598 29.74369, -95.80559 29.743...</td>\n",
       "    </tr>\n",
       "    <tr>\n",
       "      <th>2787</th>\n",
       "      <td>113254955</td>\n",
       "      <td>2012-01-04</td>\n",
       "      <td>2</td>\n",
       "      <td>01372802</td>\n",
       "      <td>Buffalo Bayou</td>\n",
       "      <td>2.109000</td>\n",
       "      <td>12040104000079</td>\n",
       "      <td>1</td>\n",
       "      <td>120007517</td>\n",
       "      <td>558</td>\n",
       "      <td>55800</td>\n",
       "      <td>0</td>\n",
       "      <td>1</td>\n",
       "      <td>5000000</td>\n",
       "      <td>0.020455</td>\n",
       "      <td>1</td>\n",
       "      <td>2788</td>\n",
       "      <td>LINESTRING Z (-95.81434 29.75095 0.00000, -95....</td>\n",
       "      <td>POLYGON ((-95.81416 29.75193, -95.81405 29.752...</td>\n",
       "    </tr>\n",
       "    <tr>\n",
       "      <th>2788</th>\n",
       "      <td>113254957</td>\n",
       "      <td>2015-03-20</td>\n",
       "      <td>2</td>\n",
       "      <td>01372802</td>\n",
       "      <td>Buffalo Bayou</td>\n",
       "      <td>2.026800</td>\n",
       "      <td>12040104000033</td>\n",
       "      <td>1</td>\n",
       "      <td>120007513</td>\n",
       "      <td>558</td>\n",
       "      <td>55800</td>\n",
       "      <td>0</td>\n",
       "      <td>1</td>\n",
       "      <td>5000000</td>\n",
       "      <td>0.020629</td>\n",
       "      <td>1</td>\n",
       "      <td>2789</td>\n",
       "      <td>LINESTRING Z (-95.20382 29.73964 0.00000, -95....</td>\n",
       "      <td>POLYGON ((-95.20261 29.74102, -95.20208 29.741...</td>\n",
       "    </tr>\n",
       "    <tr>\n",
       "      <th>2802</th>\n",
       "      <td>113258055</td>\n",
       "      <td>2012-01-04</td>\n",
       "      <td>2</td>\n",
       "      <td>01372802</td>\n",
       "      <td>Buffalo Bayou</td>\n",
       "      <td>1.782000</td>\n",
       "      <td>12040104000057</td>\n",
       "      <td>1</td>\n",
       "      <td>None</td>\n",
       "      <td>460</td>\n",
       "      <td>46006</td>\n",
       "      <td>0</td>\n",
       "      <td>1</td>\n",
       "      <td>5000000</td>\n",
       "      <td>0.017505</td>\n",
       "      <td>1</td>\n",
       "      <td>2803</td>\n",
       "      <td>LINESTRING Z (-95.53949 29.75237 0.00000, -95....</td>\n",
       "      <td>POLYGON ((-95.54005 29.75320, -95.53993 29.753...</td>\n",
       "    </tr>\n",
       "    <tr>\n",
       "      <th>2835</th>\n",
       "      <td>113254489</td>\n",
       "      <td>2012-01-04</td>\n",
       "      <td>2</td>\n",
       "      <td>01372802</td>\n",
       "      <td>Buffalo Bayou</td>\n",
       "      <td>2.348000</td>\n",
       "      <td>12040104002337</td>\n",
       "      <td>1</td>\n",
       "      <td>120007515</td>\n",
       "      <td>558</td>\n",
       "      <td>55800</td>\n",
       "      <td>0</td>\n",
       "      <td>1</td>\n",
       "      <td>5000000</td>\n",
       "      <td>0.023695</td>\n",
       "      <td>1</td>\n",
       "      <td>2836</td>\n",
       "      <td>LINESTRING Z (-95.64423 29.76953 0.00000, -95....</td>\n",
       "      <td>POLYGON ((-95.64145 29.77006, -95.64049 29.769...</td>\n",
       "    </tr>\n",
       "  </tbody>\n",
       "</table>\n",
       "<p>76 rows × 19 columns</p>\n",
       "</div>"
      ],
      "text/plain": [
       "     permanent_       fdate  resolution   gnis_id      gnis_name  lengthkm  \\\n",
       "5     113254967  2012-01-04           2  01372802  Buffalo Bayou  0.019000   \n",
       "49    113255467  2012-01-04           2  01372802  Buffalo Bayou  1.941000   \n",
       "89    113254565  2012-01-04           2  01372802  Buffalo Bayou  0.107000   \n",
       "143   113254943  2015-03-20           2  01372802  Buffalo Bayou  0.805279   \n",
       "187   113255073  2012-01-04           2  01372802  Buffalo Bayou  0.029000   \n",
       "...         ...         ...         ...       ...            ...       ...   \n",
       "2765  113255133  2012-01-04           2  01372802  Buffalo Bayou  2.198000   \n",
       "2787  113254955  2012-01-04           2  01372802  Buffalo Bayou  2.109000   \n",
       "2788  113254957  2015-03-20           2  01372802  Buffalo Bayou  2.026800   \n",
       "2802  113258055  2012-01-04           2  01372802  Buffalo Bayou  1.782000   \n",
       "2835  113254489  2012-01-04           2  01372802  Buffalo Bayou  2.348000   \n",
       "\n",
       "           reachcode  flowdir wbarea_per  ftype  fcode  mainpath  innetwork  \\\n",
       "5     12040104000079        1  120007517    558  55800         0          1   \n",
       "49    12040104000077        1  120007517    558  55800         0          1   \n",
       "89    12040104000056        1       None    460  46006         0          1   \n",
       "143   12040104002440        1  120007513    558  55800         0          1   \n",
       "187   12040104014583        1  113263621    558  55800         0          1   \n",
       "...              ...      ...        ...    ...    ...       ...        ...   \n",
       "2765  12040104000079        1  120007517    558  55800         0          1   \n",
       "2787  12040104000079        1  120007517    558  55800         0          1   \n",
       "2788  12040104000033        1  120007513    558  55800         0          1   \n",
       "2802  12040104000057        1       None    460  46006         0          1   \n",
       "2835  12040104002337        1  120007515    558  55800         0          1   \n",
       "\n",
       "      visibility  SHAPE_Leng  Enabled  ObjectID  \\\n",
       "5        5000000    0.000182        1         6   \n",
       "49       5000000    0.019279        1        50   \n",
       "89       5000000    0.000984        1        90   \n",
       "143      5000000    0.007887        1       144   \n",
       "187      5000000    0.000287        1       188   \n",
       "...          ...         ...      ...       ...   \n",
       "2765     5000000    0.021961        1      2766   \n",
       "2787     5000000    0.020455        1      2788   \n",
       "2788     5000000    0.020629        1      2789   \n",
       "2802     5000000    0.017505        1      2803   \n",
       "2835     5000000    0.023695        1      2836   \n",
       "\n",
       "                                               geometry  \\\n",
       "5     LINESTRING Z (-95.80701 29.74327 0.00000, -95....   \n",
       "49    LINESTRING Z (-95.73154 29.71879 0.00000, -95....   \n",
       "89    LINESTRING Z (-95.49628 29.76208 0.00000, -95....   \n",
       "143   LINESTRING Z (-95.10885 29.74048 0.00000, -95....   \n",
       "187   LINESTRING Z (-95.70514 29.73612 0.00000, -95....   \n",
       "...                                                 ...   \n",
       "2765  LINESTRING Z (-95.80687 29.74315 0.00000, -95....   \n",
       "2787  LINESTRING Z (-95.81434 29.75095 0.00000, -95....   \n",
       "2788  LINESTRING Z (-95.20382 29.73964 0.00000, -95....   \n",
       "2802  LINESTRING Z (-95.53949 29.75237 0.00000, -95....   \n",
       "2835  LINESTRING Z (-95.64423 29.76953 0.00000, -95....   \n",
       "\n",
       "                                        buffer_geometry  \n",
       "5     POLYGON ((-95.80629 29.74398, -95.80625 29.743...  \n",
       "49    POLYGON ((-95.73046 29.71938, -95.72950 29.719...  \n",
       "89    POLYGON ((-95.49702 29.76275, -95.49703 29.762...  \n",
       "143   POLYGON ((-95.10893 29.74154, -95.10822 29.741...  \n",
       "187   POLYGON ((-95.70610 29.73638, -95.70607 29.736...  \n",
       "...                                                 ...  \n",
       "2765  POLYGON ((-95.80598 29.74369, -95.80559 29.743...  \n",
       "2787  POLYGON ((-95.81416 29.75193, -95.81405 29.752...  \n",
       "2788  POLYGON ((-95.20261 29.74102, -95.20208 29.741...  \n",
       "2802  POLYGON ((-95.54005 29.75320, -95.53993 29.753...  \n",
       "2835  POLYGON ((-95.64145 29.77006, -95.64049 29.769...  \n",
       "\n",
       "[76 rows x 19 columns]"
      ]
     },
     "execution_count": 180,
     "metadata": {},
     "output_type": "execute_result"
    }
   ],
   "source": [
    "geodf_buffaloBayou_projected"
   ]
  },
  {
   "cell_type": "code",
   "execution_count": 181,
   "id": "77229e9b",
   "metadata": {},
   "outputs": [
    {
     "data": {
      "text/plain": [
       "<AxesSubplot:>"
      ]
     },
     "execution_count": 181,
     "metadata": {},
     "output_type": "execute_result"
    },
    {
     "data": {
      "image/png": "[encoded data removed]",
      "text/plain": [
       "<Figure size 432x288 with 1 Axes>"
      ]
     },
     "metadata": {
      "needs_background": "light"
     },
     "output_type": "display_data"
    }
   ],
   "source": [
    "geodf_buffaloBayou_projected.plot()"
   ]
  },
  {
   "cell_type": "code",
   "execution_count": 182,
   "id": "4d13a8ef",
   "metadata": {},
   "outputs": [
    {
     "data": {
      "text/plain": [
       "<AxesSubplot:>"
      ]
     },
     "execution_count": 182,
     "metadata": {},
     "output_type": "execute_result"
    },
    {
     "data": {
      "image/png": "[encoded data removed]",
      "text/plain": [
       "<Figure size 432x288 with 1 Axes>"
      ]
     },
     "metadata": {
      "needs_background": "light"
     },
     "output_type": "display_data"
    }
   ],
   "source": [
    "geodf_buffaloBayou_projected['buffer_geometry'].plot()"
   ]
  },
  {
   "cell_type": "markdown",
   "id": "9a83138f",
   "metadata": {},
   "source": [
    "#### Now we have 76 rows of geodataframe polylines that make up Buffalo Bayou as well as a buffer polygon around each. Not sure what unit is but suspect feet"
   ]
  },
  {
   "cell_type": "markdown",
   "id": "ce8c287b",
   "metadata": {},
   "source": [
    "### Let's make a geojson out of that geodataframe"
   ]
  },
  {
   "cell_type": "code",
   "execution_count": 183,
   "id": "0eb255b0",
   "metadata": {},
   "outputs": [
    {
     "name": "stderr",
     "output_type": "stream",
     "text": [
      "/var/folders/ry/tr7t3nh122z_0n6rz2cl3lv40000gn/T/ipykernel_66338/1681928071.py:2: FutureWarning: Setting geometries to a GeoDataFrame without a geometry column will currently preserve the CRS, if present. This is deprecated, and in the future the CRS will be lost in this case. You can use set_crs(..) on the result to set the CRS manually.\n",
      "  geodf_buffaloBayou_projectedOnlyBufferGeo['geometry'] = geodf_buffaloBayou_projectedOnlyBufferGeo['buffer_geometry']\n"
     ]
    }
   ],
   "source": [
    "geodf_buffaloBayou_projectedOnlyBufferGeo = geodf_buffaloBayou_projected.drop(columns=['geometry'])\n",
    "geodf_buffaloBayou_projectedOnlyBufferGeo['geometry'] = geodf_buffaloBayou_projectedOnlyBufferGeo['buffer_geometry']\n",
    "geodf_buffaloBayou_projectedOnlyBufferGeo = geodf_buffaloBayou_projectedOnlyBufferGeo.drop(columns=['buffer_geometry'])\n"
   ]
  },
  {
   "cell_type": "code",
   "execution_count": 184,
   "id": "06649063",
   "metadata": {},
   "outputs": [],
   "source": [
    "geodf_buffaloBayou_projectedOnlyBufferGeo.to_file(\"../data/buffaloBayouTestGeojson.geojson\", driver=\"GeoJSON\")  "
   ]
  },
  {
   "cell_type": "code",
   "execution_count": 185,
   "id": "c6020b91",
   "metadata": {},
   "outputs": [],
   "source": [
    "geodf_buffaloBayou_projectedOnlyBufferGeoRead = gpd.read_file(\"../data/buffaloBayouTestGeojson.geojson\")"
   ]
  },
  {
   "cell_type": "code",
   "execution_count": 186,
   "id": "8c5f98e6",
   "metadata": {},
   "outputs": [
    {
     "data": {
      "text/plain": [
       "<Geographic 2D CRS: EPSG:4269>\n",
       "Name: NAD83\n",
       "Axis Info [ellipsoidal]:\n",
       "- Lat[north]: Geodetic latitude (degree)\n",
       "- Lon[east]: Geodetic longitude (degree)\n",
       "Area of Use:\n",
       "- name: North America - onshore and offshore: Canada - Alberta; British Columbia; Manitoba; New Brunswick; Newfoundland and Labrador; Northwest Territories; Nova Scotia; Nunavut; Ontario; Prince Edward Island; Quebec; Saskatchewan; Yukon. Puerto Rico. United States (USA) - Alabama; Alaska; Arizona; Arkansas; California; Colorado; Connecticut; Delaware; Florida; Georgia; Hawaii; Idaho; Illinois; Indiana; Iowa; Kansas; Kentucky; Louisiana; Maine; Maryland; Massachusetts; Michigan; Minnesota; Mississippi; Missouri; Montana; Nebraska; Nevada; New Hampshire; New Jersey; New Mexico; New York; North Carolina; North Dakota; Ohio; Oklahoma; Oregon; Pennsylvania; Rhode Island; South Carolina; South Dakota; Tennessee; Texas; Utah; Vermont; Virginia; Washington; West Virginia; Wisconsin; Wyoming. US Virgin Islands. British Virgin Islands.\n",
       "- bounds: (167.65, 14.92, -40.73, 86.45)\n",
       "Datum: North American Datum 1983\n",
       "- Ellipsoid: GRS 1980\n",
       "- Prime Meridian: Greenwich"
      ]
     },
     "execution_count": 186,
     "metadata": {},
     "output_type": "execute_result"
    }
   ],
   "source": [
    "geodf_buffaloBayou_projectedOnlyBufferGeoRead.crs"
   ]
  },
  {
   "cell_type": "code",
   "execution_count": 187,
   "id": "1099f392",
   "metadata": {},
   "outputs": [
    {
     "data": {
      "text/plain": [
       "<GeoAxesSubplot:>"
      ]
     },
     "execution_count": 187,
     "metadata": {},
     "output_type": "execute_result"
    },
    {
     "data": {
      "image/png": "[encoded data removed]",
      "text/plain": [
       "<Figure size 864x576 with 1 Axes>"
      ]
     },
     "metadata": {
      "needs_background": "light"
     },
     "output_type": "display_data"
    }
   ],
   "source": [
    "geoplot.polyplot(geodf_buffaloBayou_projectedOnlyBufferGeoRead, projection=gcrs.AlbersEqualArea(), edgecolor='darkgrey', facecolor='lightgrey', linewidth=.3,\n",
    "    figsize=(12, 8))"
   ]
  },
  {
   "cell_type": "code",
   "execution_count": 188,
   "id": "4272f439",
   "metadata": {},
   "outputs": [],
   "source": [
    "import pandas as pd\n",
    "from shapely.ops import unary_union\n"
   ]
  },
  {
   "cell_type": "code",
   "execution_count": 189,
   "id": "6f19a9c2",
   "metadata": {},
   "outputs": [],
   "source": [
    "buffalo_bayou_single_geodf = geodf_buffaloBayou_projectedOnlyBufferGeo.dissolve(by='gnis_name')"
   ]
  },
  {
   "cell_type": "code",
   "execution_count": 190,
   "id": "d57bbd38",
   "metadata": {},
   "outputs": [
    {
     "data": {
      "text/html": [
       "<div>\n",
       "<style scoped>\n",
       "    .dataframe tbody tr th:only-of-type {\n",
       "        vertical-align: middle;\n",
       "    }\n",
       "\n",
       "    .dataframe tbody tr th {\n",
       "        vertical-align: top;\n",
       "    }\n",
       "\n",
       "    .dataframe thead th {\n",
       "        text-align: right;\n",
       "    }\n",
       "</style>\n",
       "<table border=\"1\" class=\"dataframe\">\n",
       "  <thead>\n",
       "    <tr style=\"text-align: right;\">\n",
       "      <th></th>\n",
       "      <th>geometry</th>\n",
       "      <th>permanent_</th>\n",
       "      <th>fdate</th>\n",
       "      <th>resolution</th>\n",
       "      <th>gnis_id</th>\n",
       "      <th>lengthkm</th>\n",
       "      <th>reachcode</th>\n",
       "      <th>flowdir</th>\n",
       "      <th>wbarea_per</th>\n",
       "      <th>ftype</th>\n",
       "      <th>fcode</th>\n",
       "      <th>mainpath</th>\n",
       "      <th>innetwork</th>\n",
       "      <th>visibility</th>\n",
       "      <th>SHAPE_Leng</th>\n",
       "      <th>Enabled</th>\n",
       "      <th>ObjectID</th>\n",
       "    </tr>\n",
       "    <tr>\n",
       "      <th>gnis_name</th>\n",
       "      <th></th>\n",
       "      <th></th>\n",
       "      <th></th>\n",
       "      <th></th>\n",
       "      <th></th>\n",
       "      <th></th>\n",
       "      <th></th>\n",
       "      <th></th>\n",
       "      <th></th>\n",
       "      <th></th>\n",
       "      <th></th>\n",
       "      <th></th>\n",
       "      <th></th>\n",
       "      <th></th>\n",
       "      <th></th>\n",
       "      <th></th>\n",
       "      <th></th>\n",
       "    </tr>\n",
       "  </thead>\n",
       "  <tbody>\n",
       "    <tr>\n",
       "      <th>Buffalo Bayou</th>\n",
       "      <td>POLYGON ((-95.72735 29.71992, -95.72724 29.719...</td>\n",
       "      <td>113254967</td>\n",
       "      <td>2012-01-04</td>\n",
       "      <td>2</td>\n",
       "      <td>01372802</td>\n",
       "      <td>0.019</td>\n",
       "      <td>12040104000079</td>\n",
       "      <td>1</td>\n",
       "      <td>120007517</td>\n",
       "      <td>558</td>\n",
       "      <td>55800</td>\n",
       "      <td>0</td>\n",
       "      <td>1</td>\n",
       "      <td>5000000</td>\n",
       "      <td>0.000182</td>\n",
       "      <td>1</td>\n",
       "      <td>6</td>\n",
       "    </tr>\n",
       "  </tbody>\n",
       "</table>\n",
       "</div>"
      ],
      "text/plain": [
       "                                                        geometry permanent_  \\\n",
       "gnis_name                                                                     \n",
       "Buffalo Bayou  POLYGON ((-95.72735 29.71992, -95.72724 29.719...  113254967   \n",
       "\n",
       "                    fdate  resolution   gnis_id  lengthkm       reachcode  \\\n",
       "gnis_name                                                                   \n",
       "Buffalo Bayou  2012-01-04           2  01372802     0.019  12040104000079   \n",
       "\n",
       "               flowdir wbarea_per  ftype  fcode  mainpath  innetwork  \\\n",
       "gnis_name                                                              \n",
       "Buffalo Bayou        1  120007517    558  55800         0          1   \n",
       "\n",
       "               visibility  SHAPE_Leng  Enabled  ObjectID  \n",
       "gnis_name                                                 \n",
       "Buffalo Bayou     5000000    0.000182        1         6  "
      ]
     },
     "execution_count": 190,
     "metadata": {},
     "output_type": "execute_result"
    }
   ],
   "source": [
    "buffalo_bayou_single_geodf"
   ]
  },
  {
   "cell_type": "code",
   "execution_count": 191,
   "id": "e93ffba9",
   "metadata": {},
   "outputs": [
    {
     "data": {
      "application/vnd.jupyter.widget-view+json": {
       "model_id": "23375bcfeb1d40358eb58dc2446370a6",
       "version_major": 2,
       "version_minor": 0
      },
      "text/plain": [
       "Map(center=[29.7604, -95.498], controls=(ZoomControl(options=['position', 'zoom_in_text', 'zoom_in_title', 'zo…"
      ]
     },
     "metadata": {},
     "output_type": "display_data"
    }
   ],
   "source": [
    "center = (29.7604, -95.498)\n",
    "\n",
    "m_bb = Map(center=center, zoom=10)\n",
    "\n",
    "marker = Marker(location=center, draggable=True)\n",
    "m_bb.add_layer(marker);\n",
    "\n",
    "\n",
    "def random_color(feature):\n",
    "    return {\n",
    "        'color': 'black',\n",
    "        'fillColor': random.choice(['red', 'yellow', 'green', 'orange']),\n",
    "    }\n",
    "\n",
    "riverGeoData = GeoData(geo_dataframe = buffalo_bayou_single_geodf)\n",
    "\n",
    "m_bb.add_layer(riverGeoData)\n",
    "\n",
    "\n",
    "display(m_bb)\n"
   ]
  },
  {
   "cell_type": "markdown",
   "id": "61ae0421",
   "metadata": {},
   "source": [
    "-----------"
   ]
  },
  {
   "cell_type": "markdown",
   "id": "3923c1a3",
   "metadata": {},
   "source": [
    "## Now Let's Open the Land Use File"
   ]
  },
  {
   "cell_type": "code",
   "execution_count": 58,
   "id": "44b8ce6f",
   "metadata": {},
   "outputs": [],
   "source": [
    "import geopandas as gpd\n",
    "df_landcover_fromHGAC = gpd.read_file('../data/Land_Cover_2015_10_Class_HGAC.gdb.zip')"
   ]
  },
  {
   "cell_type": "code",
   "execution_count": 59,
   "id": "8503502b",
   "metadata": {},
   "outputs": [
    {
     "data": {
      "text/plain": [
       "geopandas.geodataframe.GeoDataFrame"
      ]
     },
     "execution_count": 59,
     "metadata": {},
     "output_type": "execute_result"
    }
   ],
   "source": [
    "type(df_landcover_fromHGAC)"
   ]
  },
  {
   "cell_type": "code",
   "execution_count": 60,
   "id": "8b40c082",
   "metadata": {},
   "outputs": [
    {
     "data": {
      "text/html": [
       "<div>\n",
       "<style scoped>\n",
       "    .dataframe tbody tr th:only-of-type {\n",
       "        vertical-align: middle;\n",
       "    }\n",
       "\n",
       "    .dataframe tbody tr th {\n",
       "        vertical-align: top;\n",
       "    }\n",
       "\n",
       "    .dataframe thead th {\n",
       "        text-align: right;\n",
       "    }\n",
       "</style>\n",
       "<table border=\"1\" class=\"dataframe\">\n",
       "  <thead>\n",
       "    <tr style=\"text-align: right;\">\n",
       "      <th></th>\n",
       "      <th>Value</th>\n",
       "      <th>Class_Name</th>\n",
       "      <th>geometry</th>\n",
       "    </tr>\n",
       "  </thead>\n",
       "  <tbody>\n",
       "    <tr>\n",
       "      <th>0</th>\n",
       "      <td>1</td>\n",
       "      <td>Open Water</td>\n",
       "      <td>None</td>\n",
       "    </tr>\n",
       "    <tr>\n",
       "      <th>1</th>\n",
       "      <td>2</td>\n",
       "      <td>Developed High Intensity</td>\n",
       "      <td>None</td>\n",
       "    </tr>\n",
       "    <tr>\n",
       "      <th>2</th>\n",
       "      <td>3</td>\n",
       "      <td>Developed Medium Intensity</td>\n",
       "      <td>None</td>\n",
       "    </tr>\n",
       "    <tr>\n",
       "      <th>3</th>\n",
       "      <td>4</td>\n",
       "      <td>Developed Low Intensity</td>\n",
       "      <td>None</td>\n",
       "    </tr>\n",
       "    <tr>\n",
       "      <th>4</th>\n",
       "      <td>5</td>\n",
       "      <td>Developed Open Space</td>\n",
       "      <td>None</td>\n",
       "    </tr>\n",
       "    <tr>\n",
       "      <th>5</th>\n",
       "      <td>6</td>\n",
       "      <td>Barren Lands</td>\n",
       "      <td>None</td>\n",
       "    </tr>\n",
       "    <tr>\n",
       "      <th>6</th>\n",
       "      <td>7</td>\n",
       "      <td>Forest/Shrubs</td>\n",
       "      <td>None</td>\n",
       "    </tr>\n",
       "    <tr>\n",
       "      <th>7</th>\n",
       "      <td>8</td>\n",
       "      <td>Pasture/Grasslands</td>\n",
       "      <td>None</td>\n",
       "    </tr>\n",
       "    <tr>\n",
       "      <th>8</th>\n",
       "      <td>9</td>\n",
       "      <td>Cultivated Crops</td>\n",
       "      <td>None</td>\n",
       "    </tr>\n",
       "    <tr>\n",
       "      <th>9</th>\n",
       "      <td>10</td>\n",
       "      <td>Wetlands</td>\n",
       "      <td>None</td>\n",
       "    </tr>\n",
       "  </tbody>\n",
       "</table>\n",
       "</div>"
      ],
      "text/plain": [
       "   Value                  Class_Name geometry\n",
       "0      1                  Open Water     None\n",
       "1      2    Developed High Intensity     None\n",
       "2      3  Developed Medium Intensity     None\n",
       "3      4     Developed Low Intensity     None\n",
       "4      5        Developed Open Space     None\n",
       "5      6                Barren Lands     None\n",
       "6      7               Forest/Shrubs     None\n",
       "7      8          Pasture/Grasslands     None\n",
       "8      9            Cultivated Crops     None\n",
       "9     10                    Wetlands     None"
      ]
     },
     "execution_count": 60,
     "metadata": {},
     "output_type": "execute_result"
    }
   ],
   "source": [
    "df_landcover_fromHGAC"
   ]
  },
  {
   "cell_type": "markdown",
   "id": "56c1e0a2",
   "metadata": {},
   "source": [
    "### Let's try opening that with fiona instead"
   ]
  },
  {
   "cell_type": "code",
   "execution_count": 39,
   "id": "453d9ae2",
   "metadata": {},
   "outputs": [],
   "source": [
    "path_to_landUse = \"../data/Land_Cover_2015_10_Class_HGAC.gdb\""
   ]
  },
  {
   "cell_type": "code",
   "execution_count": 40,
   "id": "578e9384",
   "metadata": {},
   "outputs": [],
   "source": [
    "layers = fiona.listlayers(path_to_landUse)"
   ]
  },
  {
   "cell_type": "code",
   "execution_count": 41,
   "id": "46cde8df",
   "metadata": {},
   "outputs": [
    {
     "data": {
      "text/plain": [
       "['VAT_lc_2015_15county',\n",
       " 'fras_aux_lc_2015_15county',\n",
       " 'fras_blk_lc_2015_15county',\n",
       " 'fras_bnd_lc_2015_15county',\n",
       " 'fras_ras_lc_2015_15county',\n",
       " 'lc_2015_15county']"
      ]
     },
     "execution_count": 41,
     "metadata": {},
     "output_type": "execute_result"
    }
   ],
   "source": [
    "layers"
   ]
  },
  {
   "cell_type": "code",
   "execution_count": 42,
   "id": "49daf272",
   "metadata": {},
   "outputs": [
    {
     "name": "stdout",
     "output_type": "stream",
     "text": [
      "['VAT_lc_2015_15county', 'fras_aux_lc_2015_15county', 'fras_blk_lc_2015_15county', 'fras_bnd_lc_2015_15county', 'fras_ras_lc_2015_15county', 'lc_2015_15county']\n"
     ]
    }
   ],
   "source": [
    "layerlist = fiona.listlayers(path_to_landUse)\n",
    "print(layerlist)\n",
    "for i in sorted(layerlist):\n",
    "    df1 = gpd.read_file(path_to_landUse,layer=i)"
   ]
  },
  {
   "cell_type": "code",
   "execution_count": 43,
   "id": "74400993",
   "metadata": {},
   "outputs": [
    {
     "data": {
      "text/html": [
       "<div>\n",
       "<style scoped>\n",
       "    .dataframe tbody tr th:only-of-type {\n",
       "        vertical-align: middle;\n",
       "    }\n",
       "\n",
       "    .dataframe tbody tr th {\n",
       "        vertical-align: top;\n",
       "    }\n",
       "\n",
       "    .dataframe thead th {\n",
       "        text-align: right;\n",
       "    }\n",
       "</style>\n",
       "<table border=\"1\" class=\"dataframe\">\n",
       "  <thead>\n",
       "    <tr style=\"text-align: right;\">\n",
       "      <th></th>\n",
       "      <th>RASTER</th>\n",
       "      <th>FOOTPRINT_Length</th>\n",
       "      <th>FOOTPRINT_Area</th>\n",
       "      <th>geometry</th>\n",
       "    </tr>\n",
       "  </thead>\n",
       "  <tbody>\n",
       "    <tr>\n",
       "      <th>0</th>\n",
       "      <td>1</td>\n",
       "      <td>3639559.65</td>\n",
       "      <td>8.162310e+11</td>\n",
       "      <td>MULTIPOLYGON (((2643762.680 13295163.471, 2643...</td>\n",
       "    </tr>\n",
       "  </tbody>\n",
       "</table>\n",
       "</div>"
      ],
      "text/plain": [
       "   RASTER  FOOTPRINT_Length  FOOTPRINT_Area  \\\n",
       "0       1        3639559.65    8.162310e+11   \n",
       "\n",
       "                                            geometry  \n",
       "0  MULTIPOLYGON (((2643762.680 13295163.471, 2643...  "
      ]
     },
     "execution_count": 43,
     "metadata": {},
     "output_type": "execute_result"
    }
   ],
   "source": [
    "df1 "
   ]
  },
  {
   "cell_type": "code",
   "execution_count": 44,
   "id": "7a1f2476",
   "metadata": {},
   "outputs": [],
   "source": [
    "landUse_layer_lc_2015_15county = gpd.read_file(path_to_landUse,layer='fras_bnd_lc_2015_15county')"
   ]
  },
  {
   "cell_type": "code",
   "execution_count": 45,
   "id": "5aee01cb",
   "metadata": {},
   "outputs": [
    {
     "data": {
      "text/html": [
       "<div>\n",
       "<style scoped>\n",
       "    .dataframe tbody tr th:only-of-type {\n",
       "        vertical-align: middle;\n",
       "    }\n",
       "\n",
       "    .dataframe tbody tr th {\n",
       "        vertical-align: top;\n",
       "    }\n",
       "\n",
       "    .dataframe thead th {\n",
       "        text-align: right;\n",
       "    }\n",
       "</style>\n",
       "<table border=\"1\" class=\"dataframe\">\n",
       "  <thead>\n",
       "    <tr style=\"text-align: right;\">\n",
       "      <th></th>\n",
       "      <th>sequence_nbr</th>\n",
       "      <th>raster_id</th>\n",
       "      <th>name</th>\n",
       "      <th>band_flags</th>\n",
       "      <th>band_width</th>\n",
       "      <th>band_height</th>\n",
       "      <th>band_types</th>\n",
       "      <th>block_width</th>\n",
       "      <th>block_height</th>\n",
       "      <th>block_origin_x</th>\n",
       "      <th>block_origin_y</th>\n",
       "      <th>eminx</th>\n",
       "      <th>eminy</th>\n",
       "      <th>emaxx</th>\n",
       "      <th>emaxy</th>\n",
       "      <th>cdate</th>\n",
       "      <th>mdate</th>\n",
       "      <th>srid</th>\n",
       "      <th>geometry</th>\n",
       "    </tr>\n",
       "  </thead>\n",
       "  <tbody>\n",
       "    <tr>\n",
       "      <th>0</th>\n",
       "      <td>1</td>\n",
       "      <td>1</td>\n",
       "      <td></td>\n",
       "      <td>67545601</td>\n",
       "      <td>8147</td>\n",
       "      <td>10342</td>\n",
       "      <td>4195328</td>\n",
       "      <td>128</td>\n",
       "      <td>128</td>\n",
       "      <td>2.643812e+06</td>\n",
       "      <td>1.431303e+07</td>\n",
       "      <td>2.643812e+06</td>\n",
       "      <td>1.329521e+07</td>\n",
       "      <td>3.445582e+06</td>\n",
       "      <td>1.431303e+07</td>\n",
       "      <td>1519946062</td>\n",
       "      <td>1519946069</td>\n",
       "      <td>2</td>\n",
       "      <td>None</td>\n",
       "    </tr>\n",
       "  </tbody>\n",
       "</table>\n",
       "</div>"
      ],
      "text/plain": [
       "   sequence_nbr  raster_id name  band_flags  band_width  band_height  \\\n",
       "0             1          1         67545601        8147        10342   \n",
       "\n",
       "   band_types  block_width  block_height  block_origin_x  block_origin_y  \\\n",
       "0     4195328          128           128    2.643812e+06    1.431303e+07   \n",
       "\n",
       "          eminx         eminy         emaxx         emaxy       cdate  \\\n",
       "0  2.643812e+06  1.329521e+07  3.445582e+06  1.431303e+07  1519946062   \n",
       "\n",
       "        mdate  srid geometry  \n",
       "0  1519946069     2     None  "
      ]
     },
     "execution_count": 45,
     "metadata": {},
     "output_type": "execute_result"
    }
   ],
   "source": [
    "landUse_layer_lc_2015_15county"
   ]
  },
  {
   "cell_type": "code",
   "execution_count": 61,
   "id": "fa54a96b",
   "metadata": {},
   "outputs": [],
   "source": [
    "landUse_gdb = gpd.read_file(path_to_landUse)"
   ]
  },
  {
   "cell_type": "code",
   "execution_count": 62,
   "id": "4dbc8d50",
   "metadata": {},
   "outputs": [
    {
     "data": {
      "text/html": [
       "<div>\n",
       "<style scoped>\n",
       "    .dataframe tbody tr th:only-of-type {\n",
       "        vertical-align: middle;\n",
       "    }\n",
       "\n",
       "    .dataframe tbody tr th {\n",
       "        vertical-align: top;\n",
       "    }\n",
       "\n",
       "    .dataframe thead th {\n",
       "        text-align: right;\n",
       "    }\n",
       "</style>\n",
       "<table border=\"1\" class=\"dataframe\">\n",
       "  <thead>\n",
       "    <tr style=\"text-align: right;\">\n",
       "      <th></th>\n",
       "      <th>Value</th>\n",
       "      <th>Class_Name</th>\n",
       "      <th>geometry</th>\n",
       "    </tr>\n",
       "  </thead>\n",
       "  <tbody>\n",
       "    <tr>\n",
       "      <th>0</th>\n",
       "      <td>1</td>\n",
       "      <td>Open Water</td>\n",
       "      <td>None</td>\n",
       "    </tr>\n",
       "    <tr>\n",
       "      <th>1</th>\n",
       "      <td>2</td>\n",
       "      <td>Developed High Intensity</td>\n",
       "      <td>None</td>\n",
       "    </tr>\n",
       "    <tr>\n",
       "      <th>2</th>\n",
       "      <td>3</td>\n",
       "      <td>Developed Medium Intensity</td>\n",
       "      <td>None</td>\n",
       "    </tr>\n",
       "    <tr>\n",
       "      <th>3</th>\n",
       "      <td>4</td>\n",
       "      <td>Developed Low Intensity</td>\n",
       "      <td>None</td>\n",
       "    </tr>\n",
       "    <tr>\n",
       "      <th>4</th>\n",
       "      <td>5</td>\n",
       "      <td>Developed Open Space</td>\n",
       "      <td>None</td>\n",
       "    </tr>\n",
       "    <tr>\n",
       "      <th>5</th>\n",
       "      <td>6</td>\n",
       "      <td>Barren Lands</td>\n",
       "      <td>None</td>\n",
       "    </tr>\n",
       "    <tr>\n",
       "      <th>6</th>\n",
       "      <td>7</td>\n",
       "      <td>Forest/Shrubs</td>\n",
       "      <td>None</td>\n",
       "    </tr>\n",
       "    <tr>\n",
       "      <th>7</th>\n",
       "      <td>8</td>\n",
       "      <td>Pasture/Grasslands</td>\n",
       "      <td>None</td>\n",
       "    </tr>\n",
       "    <tr>\n",
       "      <th>8</th>\n",
       "      <td>9</td>\n",
       "      <td>Cultivated Crops</td>\n",
       "      <td>None</td>\n",
       "    </tr>\n",
       "    <tr>\n",
       "      <th>9</th>\n",
       "      <td>10</td>\n",
       "      <td>Wetlands</td>\n",
       "      <td>None</td>\n",
       "    </tr>\n",
       "  </tbody>\n",
       "</table>\n",
       "</div>"
      ],
      "text/plain": [
       "   Value                  Class_Name geometry\n",
       "0      1                  Open Water     None\n",
       "1      2    Developed High Intensity     None\n",
       "2      3  Developed Medium Intensity     None\n",
       "3      4     Developed Low Intensity     None\n",
       "4      5        Developed Open Space     None\n",
       "5      6                Barren Lands     None\n",
       "6      7               Forest/Shrubs     None\n",
       "7      8          Pasture/Grasslands     None\n",
       "8      9            Cultivated Crops     None\n",
       "9     10                    Wetlands     None"
      ]
     },
     "execution_count": 62,
     "metadata": {},
     "output_type": "execute_result"
    }
   ],
   "source": [
    "landUse_gdb"
   ]
  },
  {
   "cell_type": "code",
   "execution_count": 63,
   "id": "818e63b5",
   "metadata": {},
   "outputs": [
    {
     "data": {
      "application/vnd.jupyter.widget-view+json": {
       "model_id": "ed13fd47a0cd4c9c904033328f384db5",
       "version_major": 2,
       "version_minor": 0
      },
      "text/plain": [
       "Map(center=[29.7604, -95.498], controls=(ZoomControl(options=['position', 'zoom_in_text', 'zoom_in_title', 'zo…"
      ]
     },
     "metadata": {},
     "output_type": "display_data"
    }
   ],
   "source": [
    "center = (29.7604, -95.498)\n",
    "\n",
    "m_ll = Map(center=center, zoom=10)\n",
    "\n",
    "marker = Marker(location=center, draggable=True)\n",
    "m_ll.add_layer(marker);\n",
    "\n",
    "\n",
    "def random_color(feature):\n",
    "    return {\n",
    "        'color': 'black',\n",
    "        'fillColor': random.choice(['red', 'yellow', 'green', 'orange']),\n",
    "    }\n",
    "\n",
    "landuse = GeoData(geo_dataframe = landUse_gdb)\n",
    "\n",
    "m_ll.add_layer(landuse)\n",
    "\n",
    "\n",
    "display(m_ll)"
   ]
  },
  {
   "cell_type": "code",
   "execution_count": 64,
   "id": "5e44a797",
   "metadata": {},
   "outputs": [
    {
     "data": {
      "text/plain": [
       "geopandas.geodataframe.GeoDataFrame"
      ]
     },
     "execution_count": 64,
     "metadata": {},
     "output_type": "execute_result"
    }
   ],
   "source": [
    "type(landUse_gdb)"
   ]
  },
  {
   "cell_type": "markdown",
   "id": "efe8a9ac",
   "metadata": {},
   "source": [
    "#### That land cover dataset does not seem to work well. Not sure why but HGAC GIS data seems not great so far! 2x problems"
   ]
  },
  {
   "cell_type": "markdown",
   "id": "c48692db",
   "metadata": {},
   "source": [
    "### Switching to USGS land cover & ecosystems tif file"
   ]
  },
  {
   "cell_type": "markdown",
   "id": "2460fc23",
   "metadata": {},
   "source": [
    "data source = https://www.usgs.gov/programs/gap-analysis-project/science/land-cover-data-download"
   ]
  },
  {
   "cell_type": "markdown",
   "id": "4c89b3f7",
   "metadata": {},
   "source": [
    "information on what values mean in terms of land cover and ecosystem can be found here: https://www.sciencebase.gov/catalog/item/573cc51be4b0dae0d5e4b0c5"
   ]
  },
  {
   "cell_type": "code",
   "execution_count": 65,
   "id": "e4e064b0",
   "metadata": {},
   "outputs": [],
   "source": [
    "import rasterio\n",
    "import rasterio.plot\n",
    "import pyproj\n",
    "import numpy as np"
   ]
  },
  {
   "cell_type": "code",
   "execution_count": 66,
   "id": "14dde3f9",
   "metadata": {},
   "outputs": [],
   "source": [
    "import matplotlib\n",
    "import matplotlib.pyplot as plt"
   ]
  },
  {
   "cell_type": "code",
   "execution_count": 67,
   "id": "cac80cfb",
   "metadata": {},
   "outputs": [],
   "source": [
    "path_to_ecosystems_tif = \"../data/gaplf2011lc_v30_TX/gaplf2011lc_v30_tx.tif\""
   ]
  },
  {
   "cell_type": "code",
   "execution_count": 68,
   "id": "9511a8f7",
   "metadata": {},
   "outputs": [
    {
     "name": "stdout",
     "output_type": "stream",
     "text": [
      "{'driver': 'GTiff', 'dtype': 'int16', 'nodata': -32768.0, 'width': 41251, 'height': 40235, 'count': 1, 'crs': CRS.from_epsg(5070), 'transform': Affine(30.0, 0.0, -1000365.0,\n",
      "       0.0, -30.0, 1517955.0), 'blockxsize': 128, 'blockysize': 128, 'tiled': True, 'compress': 'lzw', 'interleave': 'band'}\n"
     ]
    }
   ],
   "source": [
    "with rasterio.open(path_to_ecosystems_tif) as src:\n",
    "    print(src.profile)"
   ]
  },
  {
   "cell_type": "code",
   "execution_count": null,
   "id": "97130389",
   "metadata": {},
   "outputs": [],
   "source": []
  },
  {
   "cell_type": "code",
   "execution_count": 70,
   "id": "2d6d71a1",
   "metadata": {},
   "outputs": [],
   "source": [
    "#https://rasterio.readthedocs.io/en/latest/topics/windowed-rw.html\n",
    "#rasterio.windows.Window(col_off, row_off, width, height)\n",
    "#window = rasterio.windows.Window(1024, 1024, 1280, 2560)\n",
    "\n",
    "# with rasterio.open(path_to_ecosystems_tif) as src:\n",
    "#     subset = src.read()\n",
    "\n",
    "# plt.figure(figsize=(6,8.5))\n",
    "# plt.imshow(subset)\n",
    "# plt.colorbar(shrink=0.001)\n",
    "# # plt.title(f'Band 4 Subset\\n{window}')\n",
    "# plt.xlabel('Column #')\n",
    "# plt.ylabel('Row #')"
   ]
  },
  {
   "cell_type": "code",
   "execution_count": 71,
   "id": "27747b68",
   "metadata": {},
   "outputs": [
    {
     "data": {
      "text/plain": [
       "<AxesSubplot:>"
      ]
     },
     "execution_count": 71,
     "metadata": {},
     "output_type": "execute_result"
    },
    {
     "data": {
      "image/png": "[encoded data removed]",
      "text/plain": [
       "<Figure size 432x288 with 1 Axes>"
      ]
     },
     "metadata": {
      "needs_background": "light"
     },
     "output_type": "display_data"
    }
   ],
   "source": [
    "import matplotlib\n",
    "f,ax = matplotlib.pyplot.subplots()\n",
    "\n",
    "chicago = rasterio.open(path_to_ecosystems_tif)\n",
    "rasterio.plot.show(chicago.read(), ax = ax, transform = chicago.transform)"
   ]
  },
  {
   "cell_type": "code",
   "execution_count": 72,
   "id": "5fa64d58",
   "metadata": {},
   "outputs": [],
   "source": [
    "import rasterio\n",
    "from rasterio.plot import show"
   ]
  },
  {
   "cell_type": "code",
   "execution_count": 73,
   "id": "b579a158",
   "metadata": {},
   "outputs": [
    {
     "data": {
      "image/png": "[encoded data removed]",
      "text/plain": [
       "<Figure size 432x288 with 1 Axes>"
      ]
     },
     "metadata": {
      "needs_background": "light"
     },
     "output_type": "display_data"
    },
    {
     "data": {
      "text/plain": [
       "<AxesSubplot:>"
      ]
     },
     "execution_count": 73,
     "metadata": {},
     "output_type": "execute_result"
    }
   ],
   "source": [
    "img = rasterio.open(path_to_ecosystems_tif)\n",
    "show(img)"
   ]
  },
  {
   "cell_type": "markdown",
   "id": "4679f446",
   "metadata": {},
   "source": [
    "This works but takes a long time to plot! several minutes"
   ]
  },
  {
   "cell_type": "markdown",
   "id": "0e4c05a8",
   "metadata": {},
   "source": [
    "https://rasterio.readthedocs.io/en/latest/quickstart.html"
   ]
  },
  {
   "cell_type": "markdown",
   "id": "a1c01efd",
   "metadata": {},
   "source": [
    "https://towardsdatascience.com/reading-and-visualizing-geotiff-images-with-python-8dcca7a74510"
   ]
  },
  {
   "cell_type": "code",
   "execution_count": 75,
   "id": "51f76245",
   "metadata": {},
   "outputs": [
    {
     "name": "stdout",
     "output_type": "stream",
     "text": [
      "bands 1\n",
      "height 40235\n",
      "width 41251\n",
      "crs EPSG:5070\n"
     ]
    }
   ],
   "source": [
    "print(\"bands\",img.count)\n",
    "print(\"height\",img.height)\n",
    "print(\"width\",img.width)\n",
    "print(\"crs\",img.crs)"
   ]
  },
  {
   "cell_type": "code",
   "execution_count": 78,
   "id": "639ddc64",
   "metadata": {},
   "outputs": [
    {
     "data": {
      "image/png": "[encoded data removed]",
      "text/plain": [
       "<Figure size 432x288 with 1 Axes>"
      ]
     },
     "metadata": {
      "needs_background": "light"
     },
     "output_type": "display_data"
    },
    {
     "data": {
      "text/plain": [
       "<AxesSubplot:>"
      ]
     },
     "execution_count": 78,
     "metadata": {},
     "output_type": "execute_result"
    }
   ],
   "source": [
    "show(img.read(1))"
   ]
  },
  {
   "cell_type": "code",
   "execution_count": 79,
   "id": "5c005d62",
   "metadata": {},
   "outputs": [
    {
     "data": {
      "text/plain": [
       "(40235, 41251)"
      ]
     },
     "execution_count": 79,
     "metadata": {},
     "output_type": "execute_result"
    }
   ],
   "source": [
    "img.shape"
   ]
  },
  {
   "cell_type": "code",
   "execution_count": 193,
   "id": "2000c7ae",
   "metadata": {},
   "outputs": [
    {
     "data": {
      "image/png": "[encoded data removed]",
      "text/plain": [
       "<Figure size 432x288 with 1 Axes>"
      ]
     },
     "metadata": {
      "needs_background": "light"
     },
     "output_type": "display_data"
    }
   ],
   "source": [
    "from rasterio.plot import show_hist\n",
    "\n",
    "show_hist(\n",
    "\n",
    "    img, bins=541, lw=0.0, stacked=False, alpha=0.3,\n",
    "\n",
    "    histtype='stepfilled', title=\"Histogram\")"
   ]
  },
  {
   "cell_type": "code",
   "execution_count": 196,
   "id": "75729cfd",
   "metadata": {},
   "outputs": [
    {
     "data": {
      "text/plain": [
       "{'driver': 'GTiff',\n",
       " 'dtype': 'int16',\n",
       " 'nodata': -32768.0,\n",
       " 'width': 41251,\n",
       " 'height': 40235,\n",
       " 'count': 1,\n",
       " 'crs': CRS.from_epsg(5070),\n",
       " 'transform': Affine(30.0, 0.0, -1000365.0,\n",
       "        0.0, -30.0, 1517955.0)}"
      ]
     },
     "execution_count": 196,
     "metadata": {},
     "output_type": "execute_result"
    }
   ],
   "source": [
    "img.meta"
   ]
  },
  {
   "cell_type": "code",
   "execution_count": 194,
   "id": "e014b5f2",
   "metadata": {},
   "outputs": [
    {
     "data": {
      "text/plain": [
       "(29.7604, -95.498)"
      ]
     },
     "execution_count": 194,
     "metadata": {},
     "output_type": "execute_result"
    }
   ],
   "source": [
    "center"
   ]
  },
  {
   "cell_type": "code",
   "execution_count": 195,
   "id": "47b80588",
   "metadata": {},
   "outputs": [
    {
     "name": "stdout",
     "output_type": "stream",
     "text": [
      "[-32768]\n"
     ]
    }
   ],
   "source": [
    "for val in img.sample([center]): \n",
    "    print(val)"
   ]
  },
  {
   "cell_type": "code",
   "execution_count": 197,
   "id": "2cad59d4",
   "metadata": {},
   "outputs": [],
   "source": [
    "x = (img.bounds.left + img.bounds.right) / 2.0\n",
    "y = (img.bounds.bottom + img.bounds.top) / 2.0"
   ]
  },
  {
   "cell_type": "code",
   "execution_count": 198,
   "id": "3ac8d87c",
   "metadata": {},
   "outputs": [
    {
     "name": "stdout",
     "output_type": "stream",
     "text": [
      "[51]\n"
     ]
    }
   ],
   "source": [
    "for val in img.sample([(x,y)]): \n",
    "    print(val)"
   ]
  },
  {
   "cell_type": "markdown",
   "id": "6f5b09cd",
   "metadata": {},
   "source": [
    "now need to read mapping of value to land use"
   ]
  },
  {
   "cell_type": "code",
   "execution_count": 216,
   "id": "0880d176",
   "metadata": {},
   "outputs": [],
   "source": [
    "path_to_GAP_LandUse_Metadata = \"../data/gaplf2011lc_v30_TX/GAP_LANDFIRE_National_Terrestrial_Ecosystems_2011.csv\""
   ]
  },
  {
   "cell_type": "code",
   "execution_count": 217,
   "id": "af3d337f",
   "metadata": {},
   "outputs": [],
   "source": [
    "path_to_GAP_LandUse_Metadata_df = pd.read_csv(path_to_GAP_LandUse_Metadata)"
   ]
  },
  {
   "cell_type": "code",
   "execution_count": 218,
   "id": "88a15f49",
   "metadata": {},
   "outputs": [
    {
     "data": {
      "text/html": [
       "<div>\n",
       "<style scoped>\n",
       "    .dataframe tbody tr th:only-of-type {\n",
       "        vertical-align: middle;\n",
       "    }\n",
       "\n",
       "    .dataframe tbody tr th {\n",
       "        vertical-align: top;\n",
       "    }\n",
       "\n",
       "    .dataframe thead th {\n",
       "        text-align: right;\n",
       "    }\n",
       "</style>\n",
       "<table border=\"1\" class=\"dataframe\">\n",
       "  <thead>\n",
       "    <tr style=\"text-align: right;\">\n",
       "      <th></th>\n",
       "      <th>Value</th>\n",
       "      <th>Count</th>\n",
       "      <th>RED</th>\n",
       "      <th>GREEN</th>\n",
       "      <th>BLUE</th>\n",
       "      <th>CL</th>\n",
       "      <th>NVC_CLASS</th>\n",
       "      <th>SC</th>\n",
       "      <th>NVC_SUBCL</th>\n",
       "      <th>FRM</th>\n",
       "      <th>NVC_FORM</th>\n",
       "      <th>DIV</th>\n",
       "      <th>NVC_DIV</th>\n",
       "      <th>MACRO_CD</th>\n",
       "      <th>NVC_MACRO</th>\n",
       "      <th>GR</th>\n",
       "      <th>NVC_GROUP</th>\n",
       "      <th>LEVEL3</th>\n",
       "      <th>ECOLSYS_LU</th>\n",
       "      <th>NVCMES</th>\n",
       "    </tr>\n",
       "  </thead>\n",
       "  <tbody>\n",
       "    <tr>\n",
       "      <th>0</th>\n",
       "      <td>300</td>\n",
       "      <td>6574742</td>\n",
       "      <td>0.94902</td>\n",
       "      <td>0.46275</td>\n",
       "      <td>0.07059</td>\n",
       "      <td>1</td>\n",
       "      <td>Forest &amp; Woodland</td>\n",
       "      <td>1.B</td>\n",
       "      <td>Temperate &amp; Boreal Forest &amp; Woodland</td>\n",
       "      <td>1.B.2</td>\n",
       "      <td>Cool Temperate Forest &amp; Woodland</td>\n",
       "      <td>1.B.2.Nd</td>\n",
       "      <td>Vancouverian Cool Temperate Forest &amp; Woodland</td>\n",
       "      <td>M023</td>\n",
       "      <td>Southern Vancouverian Montane-Foothill Forest</td>\n",
       "      <td>G344</td>\n",
       "      <td>California Montane Conifer Forest &amp; Woodland</td>\n",
       "      <td>4404</td>\n",
       "      <td>Mediterranean California Mesic Serpentine Wood...</td>\n",
       "      <td>1.B.2.NdM023G344E300</td>\n",
       "    </tr>\n",
       "    <tr>\n",
       "      <th>1</th>\n",
       "      <td>301</td>\n",
       "      <td>5466431</td>\n",
       "      <td>0.94902</td>\n",
       "      <td>0.46275</td>\n",
       "      <td>0.07059</td>\n",
       "      <td>2</td>\n",
       "      <td>Shrub &amp; Herb Vegetation</td>\n",
       "      <td>2.B</td>\n",
       "      <td>Temperate &amp; Boreal Grassland &amp; Shrubland</td>\n",
       "      <td>2.B.1</td>\n",
       "      <td>Mediterranean Scrub &amp; Grassland</td>\n",
       "      <td>2.B.1.Na</td>\n",
       "      <td>Californian Scrub &amp; Grassland</td>\n",
       "      <td>M043</td>\n",
       "      <td>Californian Chaparral</td>\n",
       "      <td>G257</td>\n",
       "      <td>Californian Xeric Chaparral</td>\n",
       "      <td>5408</td>\n",
       "      <td>Northern and Central California Dry-Mesic Chap...</td>\n",
       "      <td>2.B.1.NaM043G257E301</td>\n",
       "    </tr>\n",
       "    <tr>\n",
       "      <th>2</th>\n",
       "      <td>302</td>\n",
       "      <td>9603359</td>\n",
       "      <td>0.94902</td>\n",
       "      <td>0.46275</td>\n",
       "      <td>0.07059</td>\n",
       "      <td>2</td>\n",
       "      <td>Shrub &amp; Herb Vegetation</td>\n",
       "      <td>2.B</td>\n",
       "      <td>Temperate &amp; Boreal Grassland &amp; Shrubland</td>\n",
       "      <td>2.B.1</td>\n",
       "      <td>Mediterranean Scrub &amp; Grassland</td>\n",
       "      <td>2.B.1.Na</td>\n",
       "      <td>Californian Scrub &amp; Grassland</td>\n",
       "      <td>M043</td>\n",
       "      <td>Californian Chaparral</td>\n",
       "      <td>G257</td>\n",
       "      <td>Californian Xeric Chaparral</td>\n",
       "      <td>5410</td>\n",
       "      <td>Southern California Dry-Mesic Chaparral</td>\n",
       "      <td>2.B.1.NaM043G257E302</td>\n",
       "    </tr>\n",
       "    <tr>\n",
       "      <th>3</th>\n",
       "      <td>303</td>\n",
       "      <td>9295471</td>\n",
       "      <td>0.78431</td>\n",
       "      <td>0.46275</td>\n",
       "      <td>0.07059</td>\n",
       "      <td>2</td>\n",
       "      <td>Shrub &amp; Herb Vegetation</td>\n",
       "      <td>2.B</td>\n",
       "      <td>Temperate &amp; Boreal Grassland &amp; Shrubland</td>\n",
       "      <td>2.B.1</td>\n",
       "      <td>Mediterranean Scrub &amp; Grassland</td>\n",
       "      <td>2.B.1.Na</td>\n",
       "      <td>Californian Scrub &amp; Grassland</td>\n",
       "      <td>M044</td>\n",
       "      <td>Californian Coastal Scrub</td>\n",
       "      <td>G264</td>\n",
       "      <td>Central &amp; Southern Californian Coastal Sage Scrub</td>\n",
       "      <td>5210</td>\n",
       "      <td>Southern California Coastal Scrub</td>\n",
       "      <td>2.B.1.NaM044G264E303</td>\n",
       "    </tr>\n",
       "    <tr>\n",
       "      <th>4</th>\n",
       "      <td>304</td>\n",
       "      <td>38765299</td>\n",
       "      <td>0.92941</td>\n",
       "      <td>0.84314</td>\n",
       "      <td>0.55294</td>\n",
       "      <td>2</td>\n",
       "      <td>Shrub &amp; Herb Vegetation</td>\n",
       "      <td>2.B</td>\n",
       "      <td>Temperate &amp; Boreal Grassland &amp; Shrubland</td>\n",
       "      <td>2.B.1</td>\n",
       "      <td>Mediterranean Scrub &amp; Grassland</td>\n",
       "      <td>2.B.1.Na</td>\n",
       "      <td>Californian Grassland &amp; Meadow</td>\n",
       "      <td>M045</td>\n",
       "      <td>Californian Annual &amp; Perennial Grassland</td>\n",
       "      <td>G496</td>\n",
       "      <td>Californian Native Perennial Grassland</td>\n",
       "      <td>7501</td>\n",
       "      <td>California Central Valley and Southern Coastal...</td>\n",
       "      <td>2.B.1.NaM045G496E304</td>\n",
       "    </tr>\n",
       "    <tr>\n",
       "      <th>...</th>\n",
       "      <td>...</td>\n",
       "      <td>...</td>\n",
       "      <td>...</td>\n",
       "      <td>...</td>\n",
       "      <td>...</td>\n",
       "      <td>...</td>\n",
       "      <td>...</td>\n",
       "      <td>...</td>\n",
       "      <td>...</td>\n",
       "      <td>...</td>\n",
       "      <td>...</td>\n",
       "      <td>...</td>\n",
       "      <td>...</td>\n",
       "      <td>...</td>\n",
       "      <td>...</td>\n",
       "      <td>...</td>\n",
       "      <td>...</td>\n",
       "      <td>...</td>\n",
       "      <td>...</td>\n",
       "      <td>...</td>\n",
       "    </tr>\n",
       "    <tr>\n",
       "      <th>280</th>\n",
       "      <td>580</td>\n",
       "      <td>4048491</td>\n",
       "      <td>0.87843</td>\n",
       "      <td>0.07059</td>\n",
       "      <td>0.25882</td>\n",
       "      <td>8</td>\n",
       "      <td>Developed &amp; Other Human Use</td>\n",
       "      <td>8.B</td>\n",
       "      <td>Current and Historic Mining Activity</td>\n",
       "      <td>8.B</td>\n",
       "      <td>Current and Historic Mining Activity</td>\n",
       "      <td>8.B</td>\n",
       "      <td>Quarries, Mines, Gravel Pits and Oil Wells</td>\n",
       "      <td>8.B</td>\n",
       "      <td>Quarries, Mines, Gravel Pits and Oil Wells</td>\n",
       "      <td>8.B</td>\n",
       "      <td>Current and Historic Mining Activity</td>\n",
       "      <td>1301</td>\n",
       "      <td>Quarries, Mines, Gravel Pits and Oil Wells</td>\n",
       "      <td>8.BE580</td>\n",
       "    </tr>\n",
       "    <tr>\n",
       "      <th>281</th>\n",
       "      <td>581</td>\n",
       "      <td>228044833</td>\n",
       "      <td>0.78824</td>\n",
       "      <td>0.30196</td>\n",
       "      <td>0.25882</td>\n",
       "      <td>8</td>\n",
       "      <td>Developed &amp; Other Human Use</td>\n",
       "      <td>8.A</td>\n",
       "      <td>Developed &amp; Urban</td>\n",
       "      <td>8.A</td>\n",
       "      <td>Developed &amp; Urban</td>\n",
       "      <td>8.A</td>\n",
       "      <td>Developed &amp; Urban</td>\n",
       "      <td>8.A</td>\n",
       "      <td>Developed &amp; Urban</td>\n",
       "      <td>8.A</td>\n",
       "      <td>Developed &amp; Urban</td>\n",
       "      <td>1201</td>\n",
       "      <td>Developed, Open Space</td>\n",
       "      <td>8.AE581</td>\n",
       "    </tr>\n",
       "    <tr>\n",
       "      <th>282</th>\n",
       "      <td>582</td>\n",
       "      <td>115308969</td>\n",
       "      <td>0.78824</td>\n",
       "      <td>0.30196</td>\n",
       "      <td>0.25882</td>\n",
       "      <td>8</td>\n",
       "      <td>Developed &amp; Other Human Use</td>\n",
       "      <td>8.A</td>\n",
       "      <td>Developed &amp; Urban</td>\n",
       "      <td>8.A</td>\n",
       "      <td>Developed &amp; Urban</td>\n",
       "      <td>8.A</td>\n",
       "      <td>Developed &amp; Urban</td>\n",
       "      <td>8.A</td>\n",
       "      <td>Developed &amp; Urban</td>\n",
       "      <td>8.A</td>\n",
       "      <td>Developed &amp; Urban</td>\n",
       "      <td>1202</td>\n",
       "      <td>Developed, Low Intensity</td>\n",
       "      <td>8.AE582</td>\n",
       "    </tr>\n",
       "    <tr>\n",
       "      <th>283</th>\n",
       "      <td>583</td>\n",
       "      <td>52655029</td>\n",
       "      <td>0.78824</td>\n",
       "      <td>0.30196</td>\n",
       "      <td>0.25882</td>\n",
       "      <td>8</td>\n",
       "      <td>Developed &amp; Other Human Use</td>\n",
       "      <td>8.A</td>\n",
       "      <td>Developed &amp; Urban</td>\n",
       "      <td>8.A</td>\n",
       "      <td>Developed &amp; Urban</td>\n",
       "      <td>8.A</td>\n",
       "      <td>Developed &amp; Urban</td>\n",
       "      <td>8.A</td>\n",
       "      <td>Developed &amp; Urban</td>\n",
       "      <td>8.A</td>\n",
       "      <td>Developed &amp; Urban</td>\n",
       "      <td>1203</td>\n",
       "      <td>Developed, Medium Intensity</td>\n",
       "      <td>8.AE583</td>\n",
       "    </tr>\n",
       "    <tr>\n",
       "      <th>284</th>\n",
       "      <td>584</td>\n",
       "      <td>108122987</td>\n",
       "      <td>0.78824</td>\n",
       "      <td>0.30196</td>\n",
       "      <td>0.25882</td>\n",
       "      <td>8</td>\n",
       "      <td>Developed &amp; Other Human Use</td>\n",
       "      <td>8.A</td>\n",
       "      <td>Developed &amp; Urban</td>\n",
       "      <td>8.A</td>\n",
       "      <td>Developed &amp; Urban</td>\n",
       "      <td>8.A</td>\n",
       "      <td>Developed &amp; Urban</td>\n",
       "      <td>8.A</td>\n",
       "      <td>Developed &amp; Urban</td>\n",
       "      <td>8.A</td>\n",
       "      <td>Developed &amp; Urban</td>\n",
       "      <td>1204</td>\n",
       "      <td>Developed, High Intensity</td>\n",
       "      <td>8.AE584</td>\n",
       "    </tr>\n",
       "  </tbody>\n",
       "</table>\n",
       "<p>285 rows × 20 columns</p>\n",
       "</div>"
      ],
      "text/plain": [
       "     Value      Count      RED    GREEN     BLUE  CL  \\\n",
       "0      300    6574742  0.94902  0.46275  0.07059   1   \n",
       "1      301    5466431  0.94902  0.46275  0.07059   2   \n",
       "2      302    9603359  0.94902  0.46275  0.07059   2   \n",
       "3      303    9295471  0.78431  0.46275  0.07059   2   \n",
       "4      304   38765299  0.92941  0.84314  0.55294   2   \n",
       "..     ...        ...      ...      ...      ...  ..   \n",
       "280    580    4048491  0.87843  0.07059  0.25882   8   \n",
       "281    581  228044833  0.78824  0.30196  0.25882   8   \n",
       "282    582  115308969  0.78824  0.30196  0.25882   8   \n",
       "283    583   52655029  0.78824  0.30196  0.25882   8   \n",
       "284    584  108122987  0.78824  0.30196  0.25882   8   \n",
       "\n",
       "                       NVC_CLASS   SC  \\\n",
       "0              Forest & Woodland  1.B   \n",
       "1        Shrub & Herb Vegetation  2.B   \n",
       "2        Shrub & Herb Vegetation  2.B   \n",
       "3        Shrub & Herb Vegetation  2.B   \n",
       "4        Shrub & Herb Vegetation  2.B   \n",
       "..                           ...  ...   \n",
       "280  Developed & Other Human Use  8.B   \n",
       "281  Developed & Other Human Use  8.A   \n",
       "282  Developed & Other Human Use  8.A   \n",
       "283  Developed & Other Human Use  8.A   \n",
       "284  Developed & Other Human Use  8.A   \n",
       "\n",
       "                                    NVC_SUBCL    FRM  \\\n",
       "0        Temperate & Boreal Forest & Woodland  1.B.2   \n",
       "1    Temperate & Boreal Grassland & Shrubland  2.B.1   \n",
       "2    Temperate & Boreal Grassland & Shrubland  2.B.1   \n",
       "3    Temperate & Boreal Grassland & Shrubland  2.B.1   \n",
       "4    Temperate & Boreal Grassland & Shrubland  2.B.1   \n",
       "..                                        ...    ...   \n",
       "280      Current and Historic Mining Activity    8.B   \n",
       "281                         Developed & Urban    8.A   \n",
       "282                         Developed & Urban    8.A   \n",
       "283                         Developed & Urban    8.A   \n",
       "284                         Developed & Urban    8.A   \n",
       "\n",
       "                                 NVC_FORM       DIV  \\\n",
       "0        Cool Temperate Forest & Woodland  1.B.2.Nd   \n",
       "1         Mediterranean Scrub & Grassland  2.B.1.Na   \n",
       "2         Mediterranean Scrub & Grassland  2.B.1.Na   \n",
       "3         Mediterranean Scrub & Grassland  2.B.1.Na   \n",
       "4         Mediterranean Scrub & Grassland  2.B.1.Na   \n",
       "..                                    ...       ...   \n",
       "280  Current and Historic Mining Activity       8.B   \n",
       "281                     Developed & Urban       8.A   \n",
       "282                     Developed & Urban       8.A   \n",
       "283                     Developed & Urban       8.A   \n",
       "284                     Developed & Urban       8.A   \n",
       "\n",
       "                                           NVC_DIV MACRO_CD  \\\n",
       "0    Vancouverian Cool Temperate Forest & Woodland     M023   \n",
       "1                    Californian Scrub & Grassland     M043   \n",
       "2                    Californian Scrub & Grassland     M043   \n",
       "3                    Californian Scrub & Grassland     M044   \n",
       "4                   Californian Grassland & Meadow     M045   \n",
       "..                                             ...      ...   \n",
       "280     Quarries, Mines, Gravel Pits and Oil Wells      8.B   \n",
       "281                              Developed & Urban      8.A   \n",
       "282                              Developed & Urban      8.A   \n",
       "283                              Developed & Urban      8.A   \n",
       "284                              Developed & Urban      8.A   \n",
       "\n",
       "                                         NVC_MACRO    GR  \\\n",
       "0    Southern Vancouverian Montane-Foothill Forest  G344   \n",
       "1                            Californian Chaparral  G257   \n",
       "2                            Californian Chaparral  G257   \n",
       "3                        Californian Coastal Scrub  G264   \n",
       "4         Californian Annual & Perennial Grassland  G496   \n",
       "..                                             ...   ...   \n",
       "280     Quarries, Mines, Gravel Pits and Oil Wells   8.B   \n",
       "281                              Developed & Urban   8.A   \n",
       "282                              Developed & Urban   8.A   \n",
       "283                              Developed & Urban   8.A   \n",
       "284                              Developed & Urban   8.A   \n",
       "\n",
       "                                             NVC_GROUP  LEVEL3  \\\n",
       "0         California Montane Conifer Forest & Woodland    4404   \n",
       "1                          Californian Xeric Chaparral    5408   \n",
       "2                          Californian Xeric Chaparral    5410   \n",
       "3    Central & Southern Californian Coastal Sage Scrub    5210   \n",
       "4               Californian Native Perennial Grassland    7501   \n",
       "..                                                 ...     ...   \n",
       "280               Current and Historic Mining Activity    1301   \n",
       "281                                  Developed & Urban    1201   \n",
       "282                                  Developed & Urban    1202   \n",
       "283                                  Developed & Urban    1203   \n",
       "284                                  Developed & Urban    1204   \n",
       "\n",
       "                                            ECOLSYS_LU                NVCMES  \n",
       "0    Mediterranean California Mesic Serpentine Wood...  1.B.2.NdM023G344E300  \n",
       "1    Northern and Central California Dry-Mesic Chap...  2.B.1.NaM043G257E301  \n",
       "2              Southern California Dry-Mesic Chaparral  2.B.1.NaM043G257E302  \n",
       "3                    Southern California Coastal Scrub  2.B.1.NaM044G264E303  \n",
       "4    California Central Valley and Southern Coastal...  2.B.1.NaM045G496E304  \n",
       "..                                                 ...                   ...  \n",
       "280         Quarries, Mines, Gravel Pits and Oil Wells               8.BE580  \n",
       "281                              Developed, Open Space               8.AE581  \n",
       "282                           Developed, Low Intensity               8.AE582  \n",
       "283                        Developed, Medium Intensity               8.AE583  \n",
       "284                          Developed, High Intensity               8.AE584  \n",
       "\n",
       "[285 rows x 20 columns]"
      ]
     },
     "execution_count": 218,
     "metadata": {},
     "output_type": "execute_result"
    }
   ],
   "source": [
    "path_to_GAP_LandUse_Metadata_df"
   ]
  },
  {
   "cell_type": "code",
   "execution_count": 219,
   "id": "9b68b95c",
   "metadata": {},
   "outputs": [
    {
     "data": {
      "text/html": [
       "<div>\n",
       "<style scoped>\n",
       "    .dataframe tbody tr th:only-of-type {\n",
       "        vertical-align: middle;\n",
       "    }\n",
       "\n",
       "    .dataframe tbody tr th {\n",
       "        vertical-align: top;\n",
       "    }\n",
       "\n",
       "    .dataframe thead th {\n",
       "        text-align: right;\n",
       "    }\n",
       "</style>\n",
       "<table border=\"1\" class=\"dataframe\">\n",
       "  <thead>\n",
       "    <tr style=\"text-align: right;\">\n",
       "      <th></th>\n",
       "      <th>Value</th>\n",
       "      <th>Count</th>\n",
       "      <th>RED</th>\n",
       "      <th>GREEN</th>\n",
       "      <th>BLUE</th>\n",
       "      <th>CL</th>\n",
       "      <th>NVC_CLASS</th>\n",
       "      <th>SC</th>\n",
       "      <th>NVC_SUBCL</th>\n",
       "      <th>FRM</th>\n",
       "      <th>NVC_FORM</th>\n",
       "      <th>DIV</th>\n",
       "      <th>NVC_DIV</th>\n",
       "      <th>MACRO_CD</th>\n",
       "      <th>NVC_MACRO</th>\n",
       "      <th>GR</th>\n",
       "      <th>NVC_GROUP</th>\n",
       "      <th>LEVEL3</th>\n",
       "      <th>ECOLSYS_LU</th>\n",
       "      <th>NVCMES</th>\n",
       "    </tr>\n",
       "  </thead>\n",
       "  <tbody>\n",
       "    <tr>\n",
       "      <th>0</th>\n",
       "      <td>300</td>\n",
       "      <td>6574742</td>\n",
       "      <td>0.94902</td>\n",
       "      <td>0.46275</td>\n",
       "      <td>0.07059</td>\n",
       "      <td>1</td>\n",
       "      <td>Forest &amp; Woodland</td>\n",
       "      <td>1.B</td>\n",
       "      <td>Temperate &amp; Boreal Forest &amp; Woodland</td>\n",
       "      <td>1.B.2</td>\n",
       "      <td>Cool Temperate Forest &amp; Woodland</td>\n",
       "      <td>1.B.2.Nd</td>\n",
       "      <td>Vancouverian Cool Temperate Forest &amp; Woodland</td>\n",
       "      <td>M023</td>\n",
       "      <td>Southern Vancouverian Montane-Foothill Forest</td>\n",
       "      <td>G344</td>\n",
       "      <td>California Montane Conifer Forest &amp; Woodland</td>\n",
       "      <td>4404</td>\n",
       "      <td>Mediterranean California Mesic Serpentine Wood...</td>\n",
       "      <td>1.B.2.NdM023G344E300</td>\n",
       "    </tr>\n",
       "  </tbody>\n",
       "</table>\n",
       "</div>"
      ],
      "text/plain": [
       "   Value    Count      RED    GREEN     BLUE  CL          NVC_CLASS   SC  \\\n",
       "0    300  6574742  0.94902  0.46275  0.07059   1  Forest & Woodland  1.B   \n",
       "\n",
       "                              NVC_SUBCL    FRM  \\\n",
       "0  Temperate & Boreal Forest & Woodland  1.B.2   \n",
       "\n",
       "                           NVC_FORM       DIV  \\\n",
       "0  Cool Temperate Forest & Woodland  1.B.2.Nd   \n",
       "\n",
       "                                         NVC_DIV MACRO_CD  \\\n",
       "0  Vancouverian Cool Temperate Forest & Woodland     M023   \n",
       "\n",
       "                                       NVC_MACRO    GR  \\\n",
       "0  Southern Vancouverian Montane-Foothill Forest  G344   \n",
       "\n",
       "                                      NVC_GROUP  LEVEL3  \\\n",
       "0  California Montane Conifer Forest & Woodland    4404   \n",
       "\n",
       "                                          ECOLSYS_LU                NVCMES  \n",
       "0  Mediterranean California Mesic Serpentine Wood...  1.B.2.NdM023G344E300  "
      ]
     },
     "execution_count": 219,
     "metadata": {},
     "output_type": "execute_result"
    }
   ],
   "source": [
    "path_to_GAP_LandUse_Metadata_df[path_to_GAP_LandUse_Metadata_df['Value'] == 300]"
   ]
  },
  {
   "cell_type": "code",
   "execution_count": null,
   "id": "eadba468",
   "metadata": {},
   "outputs": [],
   "source": []
  },
  {
   "cell_type": "code",
   "execution_count": null,
   "id": "5ba6feaa",
   "metadata": {},
   "outputs": [],
   "source": []
  }
 ],
 "metadata": {
  "kernelspec": {
   "display_name": "Python [conda env:river-maps-experiments] *",
   "language": "python",
   "name": "conda-env-river-maps-experiments-py"
  },
  "language_info": {
   "codemirror_mode": {
    "name": "ipython",
    "version": 3
   },
   "file_extension": ".py",
   "mimetype": "text/x-python",
   "name": "python",
   "nbconvert_exporter": "python",
   "pygments_lexer": "ipython3",
   "version": "3.10.5"
  }
 },
 "nbformat": 4,
 "nbformat_minor": 5
}
